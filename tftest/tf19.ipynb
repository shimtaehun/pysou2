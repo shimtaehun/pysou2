{
 "cells": [
  {
   "cell_type": "markdown",
   "id": "c76f859f",
   "metadata": {},
   "source": [
    "## validation split 방식과 k-fold 방식에 차이"
   ]
  },
  {
   "cell_type": "code",
   "execution_count": 1,
   "id": "65c75be4",
   "metadata": {},
   "outputs": [],
   "source": [
    "import numpy as np\n",
    "import pandas as pd\n",
    "from tensorflow.keras.models import Sequential\n",
    "from tensorflow.keras.layers import Dense, Input\n",
    "from sklearn.model_selection import KFold\n",
    "from sklearn.metrics import accuracy_score"
   ]
  },
  {
   "cell_type": "code",
   "execution_count": 2,
   "id": "85bd1865",
   "metadata": {},
   "outputs": [
    {
     "name": "stdout",
     "output_type": "stream",
     "text": [
      "x 데이터 샘플:\n",
      " [[  6.    148.     72.     35.      0.     33.6     0.627  50.   ]\n",
      " [  1.     85.     66.     29.      0.     26.6     0.351  31.   ]\n",
      " [  8.    183.     64.      0.      0.     23.3     0.672  32.   ]]\n",
      "\n",
      "y 데이터 샘플:\n",
      " [1. 0. 1.]\n"
     ]
    }
   ],
   "source": [
    "\n",
    "# 데이터 로드 및 전처리\n",
    "# Pandas DataFrame에서는 iloc를 사용해야 위치 기반 슬라이싱이 가능합니다.\n",
    "data = pd.read_csv('https://raw.githubusercontent.com/pykwon/python/refs/heads/master/testdata_utf8/pima-indians-diabetes.data.csv',\n",
    "                header=None, dtype=np.float32) # header=None 추가\n",
    "x = data.iloc[:, :-1].values\n",
    "y = data.iloc[:, -1].values\n",
    "\n",
    "print('x 데이터 샘플:\\n', x[:3])\n",
    "print('\\ny 데이터 샘플:\\n', y[:3])\n",
    "\n",
    "# 모델 구성 함수 (함수명을 build_model로 통일)\n",
    "def build_model():\n",
    "    model = Sequential([\n",
    "        Input(shape=(8,)),\n",
    "        Dense(units=64, activation='relu'),\n",
    "        Dense(units=32, activation='relu'),\n",
    "        Dense(units=1, activation='sigmoid'),\n",
    "    ])\n",
    "    model.compile(optimizer='adam', loss='binary_crossentropy', metrics=['accuracy'])\n",
    "    return model"
   ]
  },
  {
   "cell_type": "markdown",
   "id": "43f7b2aa",
   "metadata": {},
   "source": [
    "## validation_split 방식 사용"
   ]
  },
  {
   "cell_type": "code",
   "execution_count": 4,
   "id": "e0ff1b04",
   "metadata": {},
   "outputs": [],
   "source": [
    "from tabnanny import verbose\n",
    "from libmambapy import History\n",
    "\n",
    "\n",
    "model_val = build_model()\n",
    "history_val = model_val.fit(x, y, epochs=50, batch_size=32, validation_split=0.2, verbose=0)\n",
    "val_acc = history_val.history['val_accuracy'][-1]"
   ]
  },
  {
   "cell_type": "markdown",
   "id": "0be2544f",
   "metadata": {},
   "source": [
    "## KFold 방식 사용"
   ]
  },
  {
   "cell_type": "code",
   "execution_count": 5,
   "id": "1f88bc8c",
   "metadata": {},
   "outputs": [
    {
     "name": "stdout",
     "output_type": "stream",
     "text": [
      "\u001b[1m5/5\u001b[0m \u001b[32m━━━━━━━━━━━━━━━━━━━━\u001b[0m\u001b[37m\u001b[0m \u001b[1m0s\u001b[0m 8ms/step \n",
      "\u001b[1m5/5\u001b[0m \u001b[32m━━━━━━━━━━━━━━━━━━━━\u001b[0m\u001b[37m\u001b[0m \u001b[1m0s\u001b[0m 9ms/step \n",
      "WARNING:tensorflow:5 out of the last 11 calls to <function TensorFlowTrainer.make_predict_function.<locals>.one_step_on_data_distributed at 0x000002470C3702C0> triggered tf.function retracing. Tracing is expensive and the excessive number of tracings could be due to (1) creating @tf.function repeatedly in a loop, (2) passing tensors with different shapes, (3) passing Python objects instead of tensors. For (1), please define your @tf.function outside of the loop. For (2), @tf.function has reduce_retracing=True option that can avoid unnecessary retracing. For (3), please refer to https://www.tensorflow.org/guide/function#controlling_retracing and https://www.tensorflow.org/api_docs/python/tf/function for  more details.\n",
      "\u001b[1m1/5\u001b[0m \u001b[32m━━━━\u001b[0m\u001b[37m━━━━━━━━━━━━━━━━\u001b[0m \u001b[1m0s\u001b[0m 29ms/stepWARNING:tensorflow:5 out of the last 11 calls to <function TensorFlowTrainer.make_predict_function.<locals>.one_step_on_data_distributed at 0x000002470C3702C0> triggered tf.function retracing. Tracing is expensive and the excessive number of tracings could be due to (1) creating @tf.function repeatedly in a loop, (2) passing tensors with different shapes, (3) passing Python objects instead of tensors. For (1), please define your @tf.function outside of the loop. For (2), @tf.function has reduce_retracing=True option that can avoid unnecessary retracing. For (3), please refer to https://www.tensorflow.org/guide/function#controlling_retracing and https://www.tensorflow.org/api_docs/python/tf/function for  more details.\n",
      "\u001b[1m5/5\u001b[0m \u001b[32m━━━━━━━━━━━━━━━━━━━━\u001b[0m\u001b[37m\u001b[0m \u001b[1m0s\u001b[0m 9ms/step \n",
      "\u001b[1m5/5\u001b[0m \u001b[32m━━━━━━━━━━━━━━━━━━━━\u001b[0m\u001b[37m\u001b[0m \u001b[1m0s\u001b[0m 10ms/step\n",
      "\u001b[1m5/5\u001b[0m \u001b[32m━━━━━━━━━━━━━━━━━━━━\u001b[0m\u001b[37m\u001b[0m \u001b[1m0s\u001b[0m 9ms/step \n"
     ]
    }
   ],
   "source": [
    "from param import batch_watch\n",
    "\n",
    "\n",
    "kf = KFold(n_splits=5, shuffle=True, random_state=42)\n",
    "kfold_accuracies = []\n",
    "\n",
    "for train_idx, val_idx in kf.split(x):\n",
    "    # 학습용, 검증용 데이터 분할\n",
    "    x_train, x_val = x[train_idx], x[val_idx]\n",
    "    # y_val 변수명 오타 수정 (x_val -> y_val)\n",
    "    y_train, y_val = y[train_idx], y[val_idx]\n",
    "\n",
    "    # 모델 생성 및 학습\n",
    "    model_kf = build_model()\n",
    "    model_kf.fit(x_train, y_train, epochs=50, batch_size=32, verbose=0)\n",
    "\n",
    "    # 예측 및 정확도 계산\n",
    "    y_pred = model_kf.predict(x_val)\n",
    "    y_pred_label = (y_pred > 0.5).astype(int)\n",
    "    acc = accuracy_score(y_val, y_pred_label)\n",
    "    kfold_accuracies.append(acc)\n",
    "    "
   ]
  },
  {
   "cell_type": "markdown",
   "id": "866a040d",
   "metadata": {},
   "source": [
    "## 비교 출력"
   ]
  },
  {
   "cell_type": "code",
   "execution_count": null,
   "id": "2588fb64",
   "metadata": {},
   "outputs": [],
   "source": []
  },
  {
   "cell_type": "code",
   "execution_count": 6,
   "id": "ce6210f2",
   "metadata": {},
   "outputs": [
    {
     "name": "stdout",
     "output_type": "stream",
     "text": [
      "[validation_split] 마지막 검증 정확도: 0.6688\n",
      "[KFold] 각 fold의 정확도: [0.6883 0.7532 0.6753 0.6732 0.6601]\n",
      "[KFold] 평균 정확도: 0.6900\n"
     ]
    }
   ],
   "source": [
    "print(f'[validation_split] 마지막 검증 정확도: {val_acc:.4f}')\n",
    "print(f'[KFold] 각 fold의 정확도: {np.round(kfold_accuracies, 4)}')\n",
    "print(f'[KFold] 평균 정확도: {np.mean(kfold_accuracies):.4f}')"
   ]
  }
 ],
 "metadata": {
  "kernelspec": {
   "display_name": "base",
   "language": "python",
   "name": "python3"
  },
  "language_info": {
   "codemirror_mode": {
    "name": "ipython",
    "version": 3
   },
   "file_extension": ".py",
   "mimetype": "text/x-python",
   "name": "python",
   "nbconvert_exporter": "python",
   "pygments_lexer": "ipython3",
   "version": "3.13.5"
  }
 },
 "nbformat": 4,
 "nbformat_minor": 5
}

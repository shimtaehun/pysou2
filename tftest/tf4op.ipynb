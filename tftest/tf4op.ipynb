{
 "cells": [
  {
   "cell_type": "code",
   "execution_count": null,
   "id": "5935da09",
   "metadata": {},
   "outputs": [
    {
     "name": "stdout",
     "output_type": "stream",
     "text": [
      "10\n",
      "tf.Tensor(1, shape=(), dtype=int32)\n",
      "tf.Tensor(1, shape=(), dtype=int32)\n"
     ]
    }
   ],
   "source": [
    "# tf 연산자\n",
    "import tensorflow as tf\n",
    "import numpy as np\n",
    "\n",
    "x = tf.constant(7)\n",
    "y = tf.constant(3)\n",
    "\n",
    "# 삼항연산: cond\n",
    "result1 = tf.cond(x > y, lambda:tf.add(x, y), lambda:tf.subtract(x, y))\n",
    "# tf.cond(pred(조건을 나타내는 boolean텐서), true_fn(조건이 참일 때 실행될 함수), false_fn(조건이 거짓일때 실행될 함수))\n",
    "tf.print(result1)\n",
    "\n",
    "# case 조건\n",
    "f1 = lambda:tf.constant(1)\n",
    "print(f1())\n",
    "f2 = lambda:tf.constant(1)\n",
    "a = tf.constant(3)\n",
    "b = tf.constant(4)\n",
    "result2 = tf.case([(tf.less(a, b), f1)], default=f2)\n",
    "print(result2)\n"
   ]
  },
  {
   "cell_type": "code",
   "execution_count": 13,
   "id": "653706ed",
   "metadata": {},
   "outputs": [
    {
     "name": "stdout",
     "output_type": "stream",
     "text": [
      "tf.Tensor(False, shape=(), dtype=bool)\n",
      "tf.Tensor(True, shape=(), dtype=bool)\n",
      "tf.Tensor(False, shape=(), dtype=bool)\n",
      "tf.Tensor(True, shape=(), dtype=bool)\n",
      "tf.Tensor(False, shape=(), dtype=bool)\n",
      "tf.Tensor(True, shape=(), dtype=bool)\n",
      "tf.Tensor(False, shape=(), dtype=bool)\n"
     ]
    }
   ],
   "source": [
    "# 관계연산\n",
    "print(tf.equal(1, 2))\n",
    "print(tf.not_equal(1, 2))\n",
    "print(tf.greater_equal(1, 2))\n",
    "print(tf.less(1, 2))\n",
    "\n",
    "# 논리 연산\n",
    "print(tf.logical_and(True, False))\n",
    "print(tf.logical_or(True, False))\n",
    "print(tf.logical_not(True, False))"
   ]
  },
  {
   "cell_type": "code",
   "execution_count": null,
   "id": "dc576b40",
   "metadata": {},
   "outputs": [
    {
     "name": "stdout",
     "output_type": "stream",
     "text": [
      "[1 2 3]\n",
      "[0 1 1 1 2]\n"
     ]
    }
   ],
   "source": [
    "# 유일 합집합\n",
    "kbs = tf.constant([1,2,2,2,3])\n",
    "val, idx = tf.unique(kbs)\n",
    "print(val.numpy())\n",
    "print(idx.numpy())\n",
    "\n",
    "# reduce_~\n",
    "ar = [[1,2], [3, 4]]\n",
    "print(tf.reduce_mean(ar).numpy())\n",
    "print(tf.reduce_mean(ar, axis=0).numpy())\n",
    "print(tf.reduce_mean(ar, axis=1).numpy())"
   ]
  }
 ],
 "metadata": {
  "kernelspec": {
   "display_name": "base",
   "language": "python",
   "name": "python3"
  },
  "language_info": {
   "codemirror_mode": {
    "name": "ipython",
    "version": 3
   },
   "file_extension": ".py",
   "mimetype": "text/x-python",
   "name": "python",
   "nbconvert_exporter": "python",
   "pygments_lexer": "ipython3",
   "version": "3.13.5"
  }
 },
 "nbformat": 4,
 "nbformat_minor": 5
}

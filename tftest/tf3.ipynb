{
 "cells": [
  {
   "cell_type": "code",
   "execution_count": 17,
   "id": "835bcaa9",
   "metadata": {},
   "outputs": [
    {
     "name": "stdout",
     "output_type": "stream",
     "text": [
      "tf.Tensor(3.0, shape=(), dtype=float32)\n",
      "tf.Tensor(4.0, shape=(), dtype=float32)\n",
      "tf.Tensor(7.0, shape=(), dtype=float32)\n",
      "\n",
      "tf.Tensor(7.0, shape=(), dtype=float32)\n",
      "<tf.Variable 'Variable:0' shape=() dtype=float32, numpy=7.0>\n"
     ]
    },
    {
     "ename": "TypeError",
     "evalue": "Tensor() takes no arguments",
     "output_type": "error",
     "traceback": [
      "\u001b[1;31m---------------------------------------------------------------------------\u001b[0m",
      "\u001b[1;31mTypeError\u001b[0m                                 Traceback (most recent call last)",
      "Cell \u001b[1;32mIn[17], line 19\u001b[0m\n\u001b[0;32m     17\u001b[0m node4\u001b[38;5;241m.\u001b[39massign_add(node3)\n\u001b[0;32m     18\u001b[0m \u001b[38;5;28mprint\u001b[39m(node4)\n\u001b[1;32m---> 19\u001b[0m tf\u001b[38;5;241m.\u001b[39mTensor(\u001b[38;5;241m3.0\u001b[39m, shape\u001b[38;5;241m=\u001b[39m(), dtype\u001b[38;5;241m=\u001b[39mtf\u001b[38;5;241m.\u001b[39mfloat32)\n\u001b[0;32m     20\u001b[0m tf\u001b[38;5;241m.\u001b[39mTensor(\u001b[38;5;241m4.0\u001b[39m, shape\u001b[38;5;241m=\u001b[39m(), dtype\u001b[38;5;241m=\u001b[39mtf\u001b[38;5;241m.\u001b[39mfloat32)\n\u001b[0;32m     21\u001b[0m tf\u001b[38;5;241m.\u001b[39mTensor(\u001b[38;5;241m7.0\u001b[39m, shape\u001b[38;5;241m=\u001b[39m(), dtype\u001b[38;5;241m=\u001b[39mtf\u001b[38;5;241m.\u001b[39mfloat32)\n",
      "\u001b[1;31mTypeError\u001b[0m: Tensor() takes no arguments"
     ]
    }
   ],
   "source": [
    "# constant / Variable 정리\n",
    "import tensorflow as tf\n",
    "import numpy as np\n",
    "\n",
    "node1 = tf.constant(3, dtype=tf.float32)\n",
    "node2 = tf.constant(4.0)\n",
    "print(node1)\n",
    "print(node2)\n",
    "imsi = tf.add(node1, node2)\n",
    "print(imsi)\n",
    "\n",
    "print()\n",
    "node3 = tf.Variable(3, dtype=tf.float32)\n",
    "node4 = tf.Variable(4.0)\n",
    "imsi2 = tf.add(node3, node4)\n",
    "print(imsi2)\n",
    "node4.assign_add(node3)\n",
    "print(node4)\n",
    "tf.Tensor(3.0, shape=(), dtype=tf.float32)\n",
    "tf.Tensor(4.0, shape=(), dtype=tf.float32)\n",
    "tf.Tensor(7.0, shape=(), dtype=tf.float32)"
   ]
  },
  {
   "cell_type": "code",
   "execution_count": null,
   "id": "d3278eb5",
   "metadata": {},
   "outputs": [
    {
     "name": "stdout",
     "output_type": "stream",
     "text": [
      "\n",
      "60\n",
      "----------------------------------------------------------------------------------------------------\n",
      "3\n",
      "<class 'tensorflow.python.eager.polymorphic_function.polymorphic_function.Function'>\n"
     ]
    }
   ],
   "source": [
    "print()\n",
    "a = tf.constant(5)\n",
    "b = tf.constant(10)\n",
    "c = tf.multiply(a, b)\n",
    "result = tf.cond(a < b, lambda:tf.add(10, c), lambda:tf.square(a))\n",
    "print(result.numpy())\n",
    "\n",
    "print('-'*100)\n",
    "# v = tf.Variable(1)\n",
    "v = tf.Variable(2)\n",
    "\n",
    "@tf.function    # autograph 기능에 의해 기본 Graph 객체 환경에서 작업(코드느 필요에 의해 자동변환)\n",
    "def find_nextFunc():\n",
    "    v.assign(v + 1)\n",
    "    if tf.equal(v % 2, 0):\n",
    "        v.assign(v + 10)\n",
    "\n",
    "find_nextFunc()\n",
    "print(v.numpy())\n",
    "print(type(find_nextFunc))  #"
   ]
  },
  {
   "cell_type": "code",
   "execution_count": null,
   "id": "a9e11f69",
   "metadata": {},
   "outputs": [
    {
     "name": "stdout",
     "output_type": "stream",
     "text": [
      "1부터 3까지 합 출력 함수 작성\n",
      "3  3\n",
      "\n",
      "3  3\n",
      "\n",
      "3  3\n"
     ]
    },
    {
     "name": "stderr",
     "output_type": "stream",
     "text": [
      "C:\\Users\\cheei\\AppData\\Local\\Temp\\ipykernel_17572\\460178110.py:42: DeprecationWarning: __array__ implementation doesn't accept a copy keyword, so passing copy=False failed. __array__ must implement 'dtype' and 'copy' keyword arguments.\n",
      "  print(sbs.numpy(), '', np.array(sbs))\n"
     ]
    }
   ],
   "source": [
    "print('1부터 3까지 합 출력 함수 작성')\n",
    "def func1():\n",
    "    imsi = tf.constant(0)   # imsi = 0과 동일\n",
    "    su = 1\n",
    "    for _ in range(3):\n",
    "        # imsi = tf.add(imsi, su)\n",
    "        # imsi = imsi + su\n",
    "        imsi += su\n",
    "\n",
    "    return imsi\n",
    "\n",
    "kbs = func1()\n",
    "print(kbs.numpy(), '', np.array(kbs))\n",
    "\n",
    "print()\n",
    "imsi = tf.constant(0)\n",
    "@tf.function\n",
    "def func2():\n",
    "    # imsi = tf.constant(0)\n",
    "    global imsi\n",
    "    su = 1\n",
    "    for _ in range(3):\n",
    "        imsi += su\n",
    "    return imsi\n",
    "\n",
    "mbc = func2()\n",
    "print(mbc.numpy(), '', np.array(mbc))\n",
    "\n",
    "print()\n",
    "# imsi = tf.Variable(0)\n",
    "\n",
    "def func3():\n",
    "    imsi = tf.Variable(0)\n",
    "    su = 1\n",
    "    for _ in range(3):\n",
    "        # imsi += su\n",
    "        imsi.assign_add(su)\n",
    "\n",
    "    return imsi\n",
    "\n",
    "sbs = func3()\n",
    "print(sbs.numpy(), '', np.array(sbs))"
   ]
  },
  {
   "cell_type": "code",
   "execution_count": null,
   "id": "64b4209f",
   "metadata": {},
   "outputs": [
    {
     "name": "stdout",
     "output_type": "stream",
     "text": [
      "구구단 출력----------\n",
      "3 * 1 = 3\n",
      "3 * 2 = 6\n",
      "3 * 3 = 9\n",
      "3 * 4 = 12\n",
      "3 * 5 = 15\n",
      "3 * 6 = 18\n",
      "3 * 7 = 21\n",
      "3 * 8 = 24\n",
      "3 * 9 = 27\n",
      "\n",
      "5 * 1 = 5\n",
      "5 * 2 = 10\n",
      "5 * 3 = 15\n",
      "5 * 4 = 20\n",
      "5 * 5 = 25\n",
      "5 * 6 = 30\n",
      "5 * 7 = 35\n",
      "5 * 8 = 40\n",
      "5 * 9 = 45\n"
     ]
    }
   ],
   "source": [
    "print('구구단 출력----------')\n",
    "\n",
    "@tf.function\n",
    "def gugu1(dan):\n",
    "    su = tf.constant(0)\n",
    "    for _ in range(9):\n",
    "        su = tf.add(su, 1)\n",
    "        # print(su)\n",
    "        # print(su.numpy())\n",
    "        # tf.print(su)\n",
    "        # print('{}*{}={:2}'.format(dan, su, dan * su))\n",
    "        tf.print(dan, '*', su, '=', dan * su)\n",
    "\n",
    "gugu1(3)\n",
    "\n",
    "print()\n",
    "@tf.function\n",
    "def gugu2(dan):\n",
    "    for i in range(1, 10):\n",
    "        result = tf.multiply(dan, i)    # 원소곱. tf.matmul(): 행렬곱\n",
    "        tf.print(dan, '*', i, '=',result)\n",
    "\n",
    "gugu2(5)\n"
   ]
  }
 ],
 "metadata": {
  "kernelspec": {
   "display_name": "base",
   "language": "python",
   "name": "python3"
  },
  "language_info": {
   "codemirror_mode": {
    "name": "ipython",
    "version": 3
   },
   "file_extension": ".py",
   "mimetype": "text/x-python",
   "name": "python",
   "nbconvert_exporter": "python",
   "pygments_lexer": "ipython3",
   "version": "3.13.5"
  }
 },
 "nbformat": 4,
 "nbformat_minor": 5
}

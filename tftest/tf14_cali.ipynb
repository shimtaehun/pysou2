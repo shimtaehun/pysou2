{
 "cells": [
  {
   "cell_type": "code",
   "execution_count": 25,
   "metadata": {
    "colab": {
     "base_uri": "https://localhost:8080/"
    },
    "executionInfo": {
     "elapsed": 15,
     "status": "ok",
     "timestamp": 1757579035400,
     "user": {
      "displayName": "신군",
      "userId": "11087901221035475958"
     },
     "user_tz": -540
    },
    "id": "7jcpaLg21mTk",
    "outputId": "dfcf9515-13d6-4950-bf9c-854121a62a82"
   },
   "outputs": [
    {
     "name": "stdout",
     "output_type": "stream",
     "text": [
      "dict_keys(['data', 'target', 'frame', 'target_names', 'feature_names', 'DESCR'])\n",
      "[[ 8.32520000e+00  4.10000000e+01  6.98412698e+00  1.02380952e+00\n",
      "   3.22000000e+02  2.55555556e+00  3.78800000e+01 -1.22230000e+02]\n",
      " [ 8.30140000e+00  2.10000000e+01  6.23813708e+00  9.71880492e-01\n",
      "   2.40100000e+03  2.10984183e+00  3.78600000e+01 -1.22220000e+02]\n",
      " [ 7.25740000e+00  5.20000000e+01  8.28813559e+00  1.07344633e+00\n",
      "   4.96000000e+02  2.80225989e+00  3.78500000e+01 -1.22240000e+02]] <class 'numpy.ndarray'>\n",
      "[4.526 3.585 3.521] <class 'numpy.ndarray'>\n",
      "['MedInc', 'HouseAge', 'AveRooms', 'AveBedrms', 'Population', 'AveOccup', 'Latitude', 'Longitude']\n",
      "['MedHouseVal']\n",
      "(20640, 8)\n"
     ]
    }
   ],
   "source": [
    "# 켈리포니아 주택가격 데이터로 함수형 유연한 모델 생성\n",
    "from sklearn.datasets import fetch_california_housing\n",
    "from sklearn.model_selection import train_test_split\n",
    "from sklearn.preprocessing import StandardScaler\n",
    "from tensorflow.keras.models import Sequential, Model\n",
    "from tensorflow.keras.layers import Dense, Input, Concatenate\n",
    "import numpy as np\n",
    "import tensorflow as tf\n",
    "import matplotlib.pyplot as plt\n",
    "\n",
    "housing = fetch_california_housing()\n",
    "print(housing.keys())\n",
    "print(housing.data[:3], type(housing.data))\n",
    "print(housing.target[:3], type(housing.data))\n",
    "print(housing.feature_names)\n",
    "print(housing.target_names)\n",
    "print(housing.data.shape) # (20640, 8)\n"
   ]
  },
  {
   "cell_type": "code",
   "execution_count": 26,
   "metadata": {
    "colab": {
     "base_uri": "https://localhost:8080/"
    },
    "executionInfo": {
     "elapsed": 11,
     "status": "ok",
     "timestamp": 1757579139718,
     "user": {
      "displayName": "신군",
      "userId": "11087901221035475958"
     },
     "user_tz": -540
    },
    "id": "CAWUcvTv38IU",
    "outputId": "96d8f881-6499-41f8-df7c-5dece77ec6ca"
   },
   "outputs": [
    {
     "name": "stdout",
     "output_type": "stream",
     "text": [
      "(16512, 8) (4128, 8) (16512,) (4128,)\n",
      "(14448, 8) (6192, 8) (14448,) (6192,)\n",
      "[[ 4.13120000e+00  3.50000000e+01  5.88235294e+00  9.75490196e-01\n",
      "   1.21800000e+03  2.98529412e+00  3.39300000e+01 -1.18020000e+02]\n",
      " [ 2.86310000e+00  2.00000000e+01  4.40120968e+00  1.07661290e+00\n",
      "   9.99000000e+02  2.01411290e+00  3.27900000e+01 -1.17090000e+02]\n",
      " [ 4.20260000e+00  2.40000000e+01  5.61754386e+00  9.89473684e-01\n",
      "   7.31000000e+02  2.56491228e+00  3.45900000e+01 -1.20140000e+02]]\n",
      "[[ 0.13350629  0.50935748  0.18106017 -0.27384968 -0.18411678 -0.01082519\n",
      "  -0.80568191  0.78093406]\n",
      " [-0.53221805 -0.67987313 -0.42262953 -0.04786832 -0.37619075 -0.08931585\n",
      "  -1.33947268  1.24526986]\n",
      " [ 0.1709897  -0.36274497  0.07312833 -0.24260044 -0.61124018 -0.04480037\n",
      "  -0.49664515 -0.27755183]]\n"
     ]
    }
   ],
   "source": [
    "# train_all / test\n",
    "x_train_all, x_test, y_train_all, y_test = train_test_split(housing.data, housing.target, test_size = 0.2, random_state = 42)\n",
    "print(x_train_all.shape, x_test.shape, y_train_all.shape, y_test.shape)\n",
    "\n",
    "# train / validation\n",
    "x_train, x_valid, y_train, y_valid = train_test_split(housing.data, housing.target, test_size = 0.3, random_state = 42)\n",
    "print(x_train.shape, x_valid.shape, y_train.shape, y_valid.shape)\n",
    "\n",
    "print(x_train[:3])\n",
    "\n",
    "# 표준화\n",
    "scaler = StandardScaler()\n",
    "x_train = scaler.fit_transform(x_train)\n",
    "x_valid = scaler.fit_transform(x_valid)\n",
    "x_test = scaler.fit_transform(x_test)\n",
    "print(x_train[:3])"
   ]
  },
  {
   "cell_type": "code",
   "execution_count": 27,
   "metadata": {},
   "outputs": [
    {
     "name": "stdout",
     "output_type": "stream",
     "text": [
      "Sequential api ---단순한 방법으로 MLP---\n"
     ]
    },
    {
     "data": {
      "text/html": [
       "<pre style=\"white-space:pre;overflow-x:auto;line-height:normal;font-family:Menlo,'DejaVu Sans Mono',consolas,'Courier New',monospace\"><span style=\"font-weight: bold\">Model: \"sequential_11\"</span>\n",
       "</pre>\n"
      ],
      "text/plain": [
       "\u001b[1mModel: \"sequential_11\"\u001b[0m\n"
      ]
     },
     "metadata": {},
     "output_type": "display_data"
    },
    {
     "data": {
      "text/html": [
       "<pre style=\"white-space:pre;overflow-x:auto;line-height:normal;font-family:Menlo,'DejaVu Sans Mono',consolas,'Courier New',monospace\">┏━━━━━━━━━━━━━━━━━━━━━━━━━━━━━━━━━┳━━━━━━━━━━━━━━━━━━━━━━━━┳━━━━━━━━━━━━━━━┓\n",
       "┃<span style=\"font-weight: bold\"> Layer (type)                    </span>┃<span style=\"font-weight: bold\"> Output Shape           </span>┃<span style=\"font-weight: bold\">       Param # </span>┃\n",
       "┡━━━━━━━━━━━━━━━━━━━━━━━━━━━━━━━━━╇━━━━━━━━━━━━━━━━━━━━━━━━╇━━━━━━━━━━━━━━━┩\n",
       "│ dense_34 (<span style=\"color: #0087ff; text-decoration-color: #0087ff\">Dense</span>)                │ (<span style=\"color: #00d7ff; text-decoration-color: #00d7ff\">None</span>, <span style=\"color: #00af00; text-decoration-color: #00af00\">32</span>)             │           <span style=\"color: #00af00; text-decoration-color: #00af00\">288</span> │\n",
       "├─────────────────────────────────┼────────────────────────┼───────────────┤\n",
       "│ dense_35 (<span style=\"color: #0087ff; text-decoration-color: #0087ff\">Dense</span>)                │ (<span style=\"color: #00d7ff; text-decoration-color: #00d7ff\">None</span>, <span style=\"color: #00af00; text-decoration-color: #00af00\">1</span>)              │            <span style=\"color: #00af00; text-decoration-color: #00af00\">33</span> │\n",
       "└─────────────────────────────────┴────────────────────────┴───────────────┘\n",
       "</pre>\n"
      ],
      "text/plain": [
       "┏━━━━━━━━━━━━━━━━━━━━━━━━━━━━━━━━━┳━━━━━━━━━━━━━━━━━━━━━━━━┳━━━━━━━━━━━━━━━┓\n",
       "┃\u001b[1m \u001b[0m\u001b[1mLayer (type)                   \u001b[0m\u001b[1m \u001b[0m┃\u001b[1m \u001b[0m\u001b[1mOutput Shape          \u001b[0m\u001b[1m \u001b[0m┃\u001b[1m \u001b[0m\u001b[1m      Param #\u001b[0m\u001b[1m \u001b[0m┃\n",
       "┡━━━━━━━━━━━━━━━━━━━━━━━━━━━━━━━━━╇━━━━━━━━━━━━━━━━━━━━━━━━╇━━━━━━━━━━━━━━━┩\n",
       "│ dense_34 (\u001b[38;5;33mDense\u001b[0m)                │ (\u001b[38;5;45mNone\u001b[0m, \u001b[38;5;34m32\u001b[0m)             │           \u001b[38;5;34m288\u001b[0m │\n",
       "├─────────────────────────────────┼────────────────────────┼───────────────┤\n",
       "│ dense_35 (\u001b[38;5;33mDense\u001b[0m)                │ (\u001b[38;5;45mNone\u001b[0m, \u001b[38;5;34m1\u001b[0m)              │            \u001b[38;5;34m33\u001b[0m │\n",
       "└─────────────────────────────────┴────────────────────────┴───────────────┘\n"
      ]
     },
     "metadata": {},
     "output_type": "display_data"
    },
    {
     "data": {
      "text/html": [
       "<pre style=\"white-space:pre;overflow-x:auto;line-height:normal;font-family:Menlo,'DejaVu Sans Mono',consolas,'Courier New',monospace\"><span style=\"font-weight: bold\"> Total params: </span><span style=\"color: #00af00; text-decoration-color: #00af00\">321</span> (1.25 KB)\n",
       "</pre>\n"
      ],
      "text/plain": [
       "\u001b[1m Total params: \u001b[0m\u001b[38;5;34m321\u001b[0m (1.25 KB)\n"
      ]
     },
     "metadata": {},
     "output_type": "display_data"
    },
    {
     "data": {
      "text/html": [
       "<pre style=\"white-space:pre;overflow-x:auto;line-height:normal;font-family:Menlo,'DejaVu Sans Mono',consolas,'Courier New',monospace\"><span style=\"font-weight: bold\"> Trainable params: </span><span style=\"color: #00af00; text-decoration-color: #00af00\">321</span> (1.25 KB)\n",
       "</pre>\n"
      ],
      "text/plain": [
       "\u001b[1m Trainable params: \u001b[0m\u001b[38;5;34m321\u001b[0m (1.25 KB)\n"
      ]
     },
     "metadata": {},
     "output_type": "display_data"
    },
    {
     "data": {
      "text/html": [
       "<pre style=\"white-space:pre;overflow-x:auto;line-height:normal;font-family:Menlo,'DejaVu Sans Mono',consolas,'Courier New',monospace\"><span style=\"font-weight: bold\"> Non-trainable params: </span><span style=\"color: #00af00; text-decoration-color: #00af00\">0</span> (0.00 B)\n",
       "</pre>\n"
      ],
      "text/plain": [
       "\u001b[1m Non-trainable params: \u001b[0m\u001b[38;5;34m0\u001b[0m (0.00 B)\n"
      ]
     },
     "metadata": {},
     "output_type": "display_data"
    },
    {
     "name": "stdout",
     "output_type": "stream",
     "text": [
      "None\n",
      "Epoch 1/20\n",
      "452/452 - 1s - 2ms/step - loss: 1.2789 - mse: 1.2789 - val_loss: 0.6012 - val_mse: 0.6012\n",
      "Epoch 2/20\n",
      "452/452 - 0s - 1ms/step - loss: 0.5602 - mse: 0.5602 - val_loss: 0.6636 - val_mse: 0.6636\n",
      "Epoch 3/20\n",
      "452/452 - 0s - 1ms/step - loss: 0.4493 - mse: 0.4493 - val_loss: 1.1326 - val_mse: 1.1326\n",
      "Epoch 4/20\n",
      "452/452 - 0s - 1ms/step - loss: 0.4218 - mse: 0.4218 - val_loss: 1.4920 - val_mse: 1.4920\n",
      "Epoch 5/20\n",
      "452/452 - 0s - 1ms/step - loss: 0.3990 - mse: 0.3990 - val_loss: 1.8843 - val_mse: 1.8843\n",
      "Epoch 6/20\n",
      "452/452 - 0s - 1ms/step - loss: 0.3891 - mse: 0.3891 - val_loss: 2.1566 - val_mse: 2.1566\n",
      "Epoch 7/20\n",
      "452/452 - 0s - 1ms/step - loss: 0.3808 - mse: 0.3808 - val_loss: 2.5633 - val_mse: 2.5633\n",
      "Epoch 8/20\n",
      "452/452 - 0s - 1ms/step - loss: 0.3745 - mse: 0.3745 - val_loss: 2.8045 - val_mse: 2.8045\n",
      "Epoch 9/20\n",
      "452/452 - 1s - 1ms/step - loss: 0.3694 - mse: 0.3694 - val_loss: 3.2437 - val_mse: 3.2437\n",
      "Epoch 10/20\n",
      "452/452 - 0s - 1ms/step - loss: 0.3633 - mse: 0.3633 - val_loss: 3.3834 - val_mse: 3.3834\n",
      "Epoch 11/20\n",
      "452/452 - 1s - 1ms/step - loss: 0.3573 - mse: 0.3573 - val_loss: 3.6554 - val_mse: 3.6554\n",
      "Epoch 12/20\n",
      "452/452 - 0s - 1ms/step - loss: 0.3565 - mse: 0.3565 - val_loss: 3.9647 - val_mse: 3.9647\n",
      "Epoch 13/20\n",
      "452/452 - 0s - 1ms/step - loss: 0.3519 - mse: 0.3519 - val_loss: 4.2043 - val_mse: 4.2043\n",
      "Epoch 14/20\n",
      "452/452 - 1s - 1ms/step - loss: 0.3429 - mse: 0.3429 - val_loss: 4.4684 - val_mse: 4.4684\n",
      "Epoch 15/20\n",
      "452/452 - 0s - 1ms/step - loss: 0.3406 - mse: 0.3406 - val_loss: 4.7283 - val_mse: 4.7283\n",
      "Epoch 16/20\n",
      "452/452 - 1s - 1ms/step - loss: 0.3448 - mse: 0.3448 - val_loss: 5.4022 - val_mse: 5.4022\n",
      "Epoch 17/20\n",
      "452/452 - 1s - 1ms/step - loss: 0.3401 - mse: 0.3401 - val_loss: 5.4045 - val_mse: 5.4045\n",
      "Epoch 18/20\n",
      "452/452 - 1s - 1ms/step - loss: 0.3328 - mse: 0.3328 - val_loss: 6.0256 - val_mse: 6.0256\n",
      "Epoch 19/20\n",
      "452/452 - 0s - 1ms/step - loss: 0.3320 - mse: 0.3320 - val_loss: 6.1164 - val_mse: 6.1164\n",
      "Epoch 20/20\n",
      "452/452 - 0s - 1ms/step - loss: 0.3294 - mse: 0.3294 - val_loss: 6.6288 - val_mse: 6.6288\n",
      "eveluate:  [4.931417465209961, 4.931417465209961]\n",
      "\u001b[1m1/1\u001b[0m \u001b[32m━━━━━━━━━━━━━━━━━━━━\u001b[0m\u001b[37m\u001b[0m \u001b[1m0s\u001b[0m 39ms/step\n",
      "예측값:  [ 0.5626382  2.430488  11.633558 ]\n",
      "실제값:  [0.477   0.458   5.00001]\n"
     ]
    },
    {
     "data": {
      "image/png": "[encoded data removed]",
      "text/plain": [
       "<Figure size 640x480 with 1 Axes>"
      ]
     },
     "metadata": {},
     "output_type": "display_data"
    }
   ],
   "source": [
    "print('Sequential api ---단순한 방법으로 MLP---')\n",
    "model = Sequential()\n",
    "model.add(Input(shape=x_train.shape[1:]))\n",
    "model.add(Dense(units=32, activation='relu'))\n",
    "model.add(Dense(units=1, activation='linear'))\n",
    "print(model.summary())\n",
    "\n",
    "model.compile(optimizer='adam', loss='mse', metrics=['mse'])\n",
    "history = model.fit(x_train, y_train, epochs=20, \\\n",
    "                    validation_data=(x_valid, y_valid), verbose=2)\n",
    "print('eveluate: ', model.evaluate(x_test, y_test, verbose=0))\n",
    "\n",
    "# test 일부 자료로 예측\n",
    "x_new = x_test[:3]\n",
    "y_pred = model.predict(x_new)\n",
    "print('예측값: ', y_pred.ravel())\n",
    "print('실제값: ', y_test[:3])\n",
    "\n",
    "plt.plot(range(1, 21), history.history['mse'], c='b', label='mse')\n",
    "plt.plot(range(1, 21), history.history['val_mse'], c='r', label='val_mse')\n",
    "plt.xlabel('epoch')\n",
    "plt.ylabel('mse')\n",
    "plt.legend()\n",
    "plt.show()"
   ]
  },
  {
   "cell_type": "code",
   "execution_count": 28,
   "metadata": {},
   "outputs": [
    {
     "name": "stdout",
     "output_type": "stream",
     "text": [
      "functional api ---단순한 방법으로 MLP---\n",
      "Epoch 1/20\n",
      "452/452 - 1s - 3ms/step - loss: 0.9656 - mse: 0.9656 - val_loss: 0.5601 - val_mse: 0.5601\n",
      "Epoch 2/20\n",
      "452/452 - 1s - 1ms/step - loss: 0.4385 - mse: 0.4385 - val_loss: 1.1665 - val_mse: 1.1665\n",
      "Epoch 3/20\n",
      "452/452 - 1s - 1ms/step - loss: 0.4062 - mse: 0.4062 - val_loss: 1.9463 - val_mse: 1.9463\n",
      "Epoch 4/20\n",
      "452/452 - 1s - 1ms/step - loss: 0.4349 - mse: 0.4349 - val_loss: 2.4004 - val_mse: 2.4004\n",
      "Epoch 5/20\n",
      "452/452 - 1s - 1ms/step - loss: 0.3653 - mse: 0.3653 - val_loss: 3.1171 - val_mse: 3.1171\n",
      "Epoch 6/20\n",
      "452/452 - 1s - 1ms/step - loss: 0.3516 - mse: 0.3516 - val_loss: 3.6413 - val_mse: 3.6413\n",
      "Epoch 7/20\n",
      "452/452 - 1s - 1ms/step - loss: 0.3445 - mse: 0.3445 - val_loss: 4.6417 - val_mse: 4.6417\n",
      "Epoch 8/20\n",
      "452/452 - 1s - 1ms/step - loss: 0.3363 - mse: 0.3363 - val_loss: 4.9377 - val_mse: 4.9377\n",
      "Epoch 9/20\n",
      "452/452 - 1s - 1ms/step - loss: 0.3410 - mse: 0.3410 - val_loss: 5.5932 - val_mse: 5.5932\n",
      "Epoch 10/20\n",
      "452/452 - 1s - 1ms/step - loss: 0.3185 - mse: 0.3185 - val_loss: 6.6094 - val_mse: 6.6094\n",
      "Epoch 11/20\n",
      "452/452 - 0s - 1ms/step - loss: 0.3237 - mse: 0.3237 - val_loss: 6.5639 - val_mse: 6.5639\n",
      "Epoch 12/20\n",
      "452/452 - 1s - 1ms/step - loss: 0.3121 - mse: 0.3121 - val_loss: 7.9519 - val_mse: 7.9519\n",
      "Epoch 13/20\n",
      "452/452 - 1s - 1ms/step - loss: 0.3234 - mse: 0.3234 - val_loss: 7.3443 - val_mse: 7.3443\n",
      "Epoch 14/20\n",
      "452/452 - 1s - 1ms/step - loss: 0.3174 - mse: 0.3174 - val_loss: 8.2424 - val_mse: 8.2424\n",
      "Epoch 15/20\n",
      "452/452 - 1s - 1ms/step - loss: 0.2994 - mse: 0.2994 - val_loss: 8.6378 - val_mse: 8.6378\n",
      "Epoch 16/20\n",
      "452/452 - 1s - 1ms/step - loss: 0.2996 - mse: 0.2996 - val_loss: 8.7504 - val_mse: 8.7504\n",
      "Epoch 17/20\n",
      "452/452 - 1s - 1ms/step - loss: 0.2957 - mse: 0.2957 - val_loss: 10.0343 - val_mse: 10.0343\n",
      "Epoch 18/20\n",
      "452/452 - 0s - 1ms/step - loss: 0.2991 - mse: 0.2991 - val_loss: 10.4126 - val_mse: 10.4126\n",
      "Epoch 19/20\n",
      "452/452 - 0s - 1ms/step - loss: 0.2994 - mse: 0.2994 - val_loss: 10.1162 - val_mse: 10.1162\n",
      "Epoch 20/20\n",
      "452/452 - 1s - 1ms/step - loss: 0.2911 - mse: 0.2911 - val_loss: 10.4353 - val_mse: 10.4353\n"
     ]
    },
    {
     "data": {
      "image/png": "[encoded data removed]",
      "text/plain": [
       "<Figure size 640x480 with 1 Axes>"
      ]
     },
     "metadata": {},
     "output_type": "display_data"
    }
   ],
   "source": [
    "print('functional api ---단순한 방법으로 MLP---')\n",
    "input_ = Input(shape=x_train.shape[1:])\n",
    "net1 = Dense(units=32, activation='relu')(input_)\n",
    "net2 = Dense(units=32, activation='relu')(net1)\n",
    "concat = Concatenate()([input_, net2])\n",
    "output = Dense(units=1)(concat)\n",
    "\n",
    "model2 = Model(inputs=[input_], outputs=[output])\n",
    "\n",
    "model2.compile(optimizer='adam', loss='mse', metrics=['mse'])\n",
    "history2 = model2.fit(x_train, y_train, epochs=20, \\\n",
    "                    validation_data=(x_valid, y_valid), verbose=2)\n",
    "\n",
    "\n",
    "plt.plot(range(1, 21), history2.history['mse'], c='b', label='mse')\n",
    "plt.plot(range(1, 21), history2.history['val_mse'], c='r', label='val_mse')\n",
    "plt.xlabel('epoch')\n",
    "plt.ylabel('mse')\n",
    "plt.legend()\n",
    "plt.show()\n"
   ]
  },
  {
   "cell_type": "code",
   "execution_count": 35,
   "metadata": {},
   "outputs": [
    {
     "name": "stdout",
     "output_type": "stream",
     "text": [
      "functional api 2 --일부 특성은 짧은 경로로 전달, 다른 특성은 깊은 경로로 전달 MLP--\n",
      "Epoch 1/20\n",
      "452/452 - 1s - 3ms/step - loss: 1.2715 - mse: 1.2715 - val_loss: 0.7703 - val_mse: 0.7703\n",
      "Epoch 2/20\n",
      "452/452 - 1s - 1ms/step - loss: 0.4949 - mse: 0.4949 - val_loss: 1.6471 - val_mse: 1.6471\n",
      "Epoch 3/20\n",
      "452/452 - 1s - 1ms/step - loss: 0.4295 - mse: 0.4295 - val_loss: 2.0763 - val_mse: 2.0763\n",
      "Epoch 4/20\n",
      "452/452 - 1s - 1ms/step - loss: 0.4017 - mse: 0.4017 - val_loss: 2.7644 - val_mse: 2.7644\n",
      "Epoch 5/20\n",
      "452/452 - 1s - 1ms/step - loss: 0.3903 - mse: 0.3903 - val_loss: 3.1299 - val_mse: 3.1299\n",
      "Epoch 6/20\n",
      "452/452 - 1s - 1ms/step - loss: 0.3740 - mse: 0.3740 - val_loss: 3.4911 - val_mse: 3.4911\n",
      "Epoch 7/20\n",
      "452/452 - 1s - 1ms/step - loss: 0.3681 - mse: 0.3681 - val_loss: 4.0235 - val_mse: 4.0235\n",
      "Epoch 8/20\n",
      "452/452 - 1s - 1ms/step - loss: 0.3569 - mse: 0.3569 - val_loss: 4.7614 - val_mse: 4.7614\n",
      "Epoch 9/20\n",
      "452/452 - 1s - 2ms/step - loss: 0.3497 - mse: 0.3497 - val_loss: 4.8470 - val_mse: 4.8470\n",
      "Epoch 10/20\n",
      "452/452 - 1s - 1ms/step - loss: 0.3446 - mse: 0.3446 - val_loss: 5.4306 - val_mse: 5.4306\n",
      "Epoch 11/20\n",
      "452/452 - 1s - 1ms/step - loss: 0.3591 - mse: 0.3591 - val_loss: 5.5003 - val_mse: 5.5003\n",
      "Epoch 12/20\n",
      "452/452 - 1s - 1ms/step - loss: 0.3401 - mse: 0.3401 - val_loss: 5.9855 - val_mse: 5.9855\n",
      "Epoch 13/20\n",
      "452/452 - 1s - 1ms/step - loss: 0.3388 - mse: 0.3388 - val_loss: 5.9140 - val_mse: 5.9140\n",
      "Epoch 14/20\n",
      "452/452 - 1s - 1ms/step - loss: 0.3338 - mse: 0.3338 - val_loss: 6.4939 - val_mse: 6.4939\n",
      "Epoch 15/20\n",
      "452/452 - 1s - 1ms/step - loss: 0.3375 - mse: 0.3375 - val_loss: 6.8022 - val_mse: 6.8022\n",
      "Epoch 16/20\n",
      "452/452 - 1s - 1ms/step - loss: 0.3341 - mse: 0.3341 - val_loss: 6.5730 - val_mse: 6.5730\n",
      "Epoch 17/20\n",
      "452/452 - 1s - 1ms/step - loss: 0.3303 - mse: 0.3303 - val_loss: 6.5147 - val_mse: 6.5147\n",
      "Epoch 18/20\n",
      "452/452 - 1s - 1ms/step - loss: 0.3321 - mse: 0.3321 - val_loss: 6.8113 - val_mse: 6.8113\n",
      "Epoch 19/20\n",
      "452/452 - 1s - 1ms/step - loss: 0.3291 - mse: 0.3291 - val_loss: 6.8843 - val_mse: 6.8843\n",
      "Epoch 20/20\n",
      "452/452 - 1s - 1ms/step - loss: 0.3278 - mse: 0.3278 - val_loss: 6.8301 - val_mse: 6.8301\n",
      "eveluate3:  [5.315932750701904, 5.315932750701904]\n"
     ]
    },
    {
     "data": {
      "image/png": "[encoded data removed]",
      "text/plain": [
       "<Figure size 640x480 with 1 Axes>"
      ]
     },
     "metadata": {},
     "output_type": "display_data"
    }
   ],
   "source": [
    "print('functional api 2 --일부 특성은 짧은 경로로 전달, 다른 특성은 깊은 경로로 전달 MLP--')\n",
    "# 예를 들어 5개(0 ~ 4)는 짧은 경로, 6개의 특성(2 ~ 7)은 깊은 경로로 전달\n",
    "input_a = Input(shape=[5], name='wide_input')\n",
    "input_b = Input(shape=[6], name='deep_input')\n",
    "net1 = Dense(units=32, activation='relu')(input_b)\n",
    "net2 = Dense(units=32, activation='relu')(net1)\n",
    "concat = Concatenate()([input_a, net2])\n",
    "output = Dense(units=1, name='output')(concat)\n",
    "\n",
    "model3 = Model(inputs=[input_a, input_b], outputs=[output])\n",
    "\n",
    "model3.compile(optimizer='adam', loss='mse', metrics=['mse'])\n",
    "\n",
    "# fit()을 호출할 때 하나의 입력 행렬 x_train을 전달하는 것이 아니라\n",
    "# 입력마다 하나씩 행렬의 튜플(x_train_a, x_train_b)을 전달해야함\n",
    "x_train_a, x_trian_b = x_train[:, :5], x_train[:, 2:] \n",
    "x_valid_a, x_valid_b = x_valid[:, :5], x_valid[:, 2:] \n",
    "x_test_a, x_test_b = x_test[:, :5], x_test[:, 2:]   # evaluate 용\n",
    "x_new_a, x_new_b = x_test_a[:, :5], x_test_b[:, 2:]   # predict 용\n",
    "\n",
    "history3 = model3.fit((x_train_a, x_trian_b),y_train, epochs=20, validation_data=((x_valid_a,x_valid_b), y_valid), verbose=2)\n",
    "print('eveluate3: ', model3.evaluate((x_test_a, x_test_b), y_test, verbose=0))\n",
    "\n",
    "\n",
    "plt.plot(range(1, 21), history2.history['mse'], c='b', label='mse')\n",
    "plt.plot(range(1, 21), history2.history['val_mse'], c='r', label='val_mse')\n",
    "plt.xlabel('epoch')\n",
    "plt.ylabel('mse')\n",
    "plt.legend()\n",
    "plt.show()\n"
   ]
  }
 ],
 "metadata": {
  "colab": {
   "authorship_tag": "ABX9TyMrUf02NfccgEiBp/EKR57e",
   "provenance": []
  },
  "kernelspec": {
   "display_name": "base",
   "language": "python",
   "name": "python3"
  },
  "language_info": {
   "codemirror_mode": {
    "name": "ipython",
    "version": 3
   },
   "file_extension": ".py",
   "mimetype": "text/x-python",
   "name": "python",
   "nbconvert_exporter": "python",
   "pygments_lexer": "ipython3",
   "version": "3.13.5"
  }
 },
 "nbformat": 4,
 "nbformat_minor": 0
}

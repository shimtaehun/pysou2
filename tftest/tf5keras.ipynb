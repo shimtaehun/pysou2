{
 "cells": [
  {
   "cell_type": "code",
   "execution_count": 2,
   "id": "052384f9",
   "metadata": {},
   "outputs": [
    {
     "name": "stdout",
     "output_type": "stream",
     "text": [
      "\u001b[1m1/1\u001b[0m \u001b[32m━━━━━━━━━━━━━━━━━━━━\u001b[0m\u001b[37m\u001b[0m \u001b[1m0s\u001b[0m 86ms/step - accuracy: 0.7500 - loss: 0.3337\n",
      "loss_metrics:  [0.333732545375824, 0.75]\n",
      "[[0.5718787 ]\n",
      " [0.7177694 ]\n",
      " [0.90413344]\n",
      " [0.9472462 ]]\n",
      "[1 1 1 1]\n"
     ]
    }
   ],
   "source": [
    "# Keras 모듈로 논리회로 분류 모델 작성\n",
    "import numpy as np\n",
    "from tensorflow.keras import Input\n",
    "from tensorflow.keras.models import Sequential\n",
    "from tensorflow.keras.layers import Dense, Activation\n",
    "from tensorflow.keras.optimizers import SGD, RMSprop, Adam\n",
    "\n",
    "# 1. 데이터 세트 생성\n",
    "x = np.array([[0, 0], [0, 1], [1, 0], [1, 1]])\n",
    "y = np.array([[0], [1], [1], [1]])\n",
    "\n",
    "# # 2. 모델 구성\n",
    "# model = sequential([\n",
    "#     Input(shape=(2,)),\n",
    "#     Dense(units=1),\n",
    "#     Activation('sigmoid')\n",
    "# ])\n",
    "model = Sequential()\n",
    "model.add((Input(shape=(2,))))\n",
    "model.add(Dense(units=1))\n",
    "model.add(Activation('sigmoid'))\n",
    "\n",
    "# 3. 모델 학습 과정 설정\n",
    "model.compile(optimizer='sgd', loss='binary_crossentropy', metrics=['accuracy'])\n",
    "# model.compile(optimizer='rmsprop', loss='binary_crossentropy', metrics=['accuracy'])\n",
    "# model.compile(optimizer='adam', loss='binary_crossentropy', metrics=['accuracy'])\n",
    "# model.compile(optimizer=SGD(learning_rate=0.01), loss='binary_crossentropy', metrics=['accuracy'])\n",
    "# model.compile(optimizer=SGD(learning_rate=0.01, momentum=0.9), loss='binary_crossentropy', metrics=['accuracy'])\n",
    "# model.compile(optimizer=RMSprop(learning_rate=0.01), loss='binary_crossentropy', metrics=['accuracy'])\n",
    "# model.compile(optimizer=Adam(learning_rate=0.01), loss='binary_crossentropy', metrics=['accuracy'])\n",
    "\n",
    "# 4. 모델 학습시키기\n",
    "model.fit(x=x, y=y, epochs=300, batch_size=1, verbose=0)\n",
    "\n",
    "# 5. 모델 평가\n",
    "loss_metrics = model.evaluate(x, y)\n",
    "print('loss_metrics: ', loss_metrics)\n",
    "\n",
    "# 6. 모델 사용하기 - 예측값 확인\n",
    "proba = model.predict(x, verbose=0)\n",
    "print(proba)\n",
    "pred = (proba > 0.5).astype('int32')\n",
    "print(pred.ravel())\n",
    "\n",
    "# 모델 저장\n",
    "model.save('test.keras')\n",
    "\n"
   ]
  },
  {
   "cell_type": "code",
   "execution_count": null,
   "id": "87c5191a",
   "metadata": {},
   "outputs": [],
   "source": [
    "# 모델 읽기\n",
    "from tensorflow.keras.models import load_model\n",
    "model2 = load_model('test.keras')\n",
    "proba = model.predict(x, verbose=0)\n",
    "pred = (proba > 0.5).astype('int32')\n",
    "print(pred.ravel())"
   ]
  }
 ],
 "metadata": {
  "kernelspec": {
   "display_name": "base",
   "language": "python",
   "name": "python3"
  },
  "language_info": {
   "codemirror_mode": {
    "name": "ipython",
    "version": 3
   },
   "file_extension": ".py",
   "mimetype": "text/x-python",
   "name": "python",
   "nbconvert_exporter": "python",
   "pygments_lexer": "ipython3",
   "version": "3.13.5"
  }
 },
 "nbformat": 4,
 "nbformat_minor": 5
}

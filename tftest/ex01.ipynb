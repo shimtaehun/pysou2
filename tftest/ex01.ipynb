{
 "cells": [
  {
   "cell_type": "markdown",
   "id": "d08fce84",
   "metadata": {},
   "source": [
    "문제1) https://www.kaggle.com/jyotikumarrout/graduation 의 binary.csv 데이터를 이용하여 \n",
    "미국 대학원 입학여부를 분류하는 모델을 작성하시오. loss, accuracy에 대한 시각화도 실시한다.\n",
    "input 함수를 사용해 새로운 gre, gpa, rank 값을 받아  admit을 판정하시오."
   ]
  },
  {
   "cell_type": "code",
   "execution_count": 1,
   "id": "cce82319",
   "metadata": {},
   "outputs": [],
   "source": [
    "import numpy as np\n",
    "import pandas as pd\n",
    "import matplotlib.pyplot as plt\n",
    "from sklearn.model_selection import train_test_split\n",
    "from tensorflow.keras.models import Sequential, Model\n",
    "from tensorflow.keras.layers import Dense, Input, BatchNormalization, Dropout\n",
    "from tensorflow.keras.optimizers import Adam"
   ]
  },
  {
   "cell_type": "code",
   "execution_count": 6,
   "id": "39b04170",
   "metadata": {},
   "outputs": [
    {
     "name": "stdout",
     "output_type": "stream",
     "text": [
      "   admit  gre   gpa  rank\n",
      "0      0  380  3.61     3\n",
      "1      1  660  3.67     3\n",
      "2      1  800  4.00     1\n",
      "<class 'pandas.core.frame.DataFrame'>\n",
      "RangeIndex: 400 entries, 0 to 399\n",
      "Data columns (total 4 columns):\n",
      " #   Column  Non-Null Count  Dtype  \n",
      "---  ------  --------------  -----  \n",
      " 0   admit   400 non-null    int64  \n",
      " 1   gre     400 non-null    int64  \n",
      " 2   gpa     400 non-null    float64\n",
      " 3   rank    400 non-null    int64  \n",
      "dtypes: float64(1), int64(3)\n",
      "memory usage: 12.6 KB\n",
      "None\n",
      "(320, 3) (80, 3) (320, 1) (80, 1)\n"
     ]
    },
    {
     "data": {
      "text/html": [
       "<pre style=\"white-space:pre;overflow-x:auto;line-height:normal;font-family:Menlo,'DejaVu Sans Mono',consolas,'Courier New',monospace\"><span style=\"font-weight: bold\">Model: \"sequential_4\"</span>\n",
       "</pre>\n"
      ],
      "text/plain": [
       "\u001b[1mModel: \"sequential_4\"\u001b[0m\n"
      ]
     },
     "metadata": {},
     "output_type": "display_data"
    },
    {
     "data": {
      "text/html": [
       "<pre style=\"white-space:pre;overflow-x:auto;line-height:normal;font-family:Menlo,'DejaVu Sans Mono',consolas,'Courier New',monospace\">┏━━━━━━━━━━━━━━━━━━━━━━━━━━━━━━━━━┳━━━━━━━━━━━━━━━━━━━━━━━━┳━━━━━━━━━━━━━━━┓\n",
       "┃<span style=\"font-weight: bold\"> Layer (type)                    </span>┃<span style=\"font-weight: bold\"> Output Shape           </span>┃<span style=\"font-weight: bold\">       Param # </span>┃\n",
       "┡━━━━━━━━━━━━━━━━━━━━━━━━━━━━━━━━━╇━━━━━━━━━━━━━━━━━━━━━━━━╇━━━━━━━━━━━━━━━┩\n",
       "│ dense_40 (<span style=\"color: #0087ff; text-decoration-color: #0087ff\">Dense</span>)                │ (<span style=\"color: #00d7ff; text-decoration-color: #00d7ff\">None</span>, <span style=\"color: #00af00; text-decoration-color: #00af00\">64</span>)             │           <span style=\"color: #00af00; text-decoration-color: #00af00\">256</span> │\n",
       "├─────────────────────────────────┼────────────────────────┼───────────────┤\n",
       "│ dense_41 (<span style=\"color: #0087ff; text-decoration-color: #0087ff\">Dense</span>)                │ (<span style=\"color: #00d7ff; text-decoration-color: #00d7ff\">None</span>, <span style=\"color: #00af00; text-decoration-color: #00af00\">32</span>)             │         <span style=\"color: #00af00; text-decoration-color: #00af00\">2,080</span> │\n",
       "├─────────────────────────────────┼────────────────────────┼───────────────┤\n",
       "│ dense_42 (<span style=\"color: #0087ff; text-decoration-color: #0087ff\">Dense</span>)                │ (<span style=\"color: #00d7ff; text-decoration-color: #00d7ff\">None</span>, <span style=\"color: #00af00; text-decoration-color: #00af00\">16</span>)             │           <span style=\"color: #00af00; text-decoration-color: #00af00\">528</span> │\n",
       "├─────────────────────────────────┼────────────────────────┼───────────────┤\n",
       "│ dense_43 (<span style=\"color: #0087ff; text-decoration-color: #0087ff\">Dense</span>)                │ (<span style=\"color: #00d7ff; text-decoration-color: #00d7ff\">None</span>, <span style=\"color: #00af00; text-decoration-color: #00af00\">1</span>)              │            <span style=\"color: #00af00; text-decoration-color: #00af00\">17</span> │\n",
       "└─────────────────────────────────┴────────────────────────┴───────────────┘\n",
       "</pre>\n"
      ],
      "text/plain": [
       "┏━━━━━━━━━━━━━━━━━━━━━━━━━━━━━━━━━┳━━━━━━━━━━━━━━━━━━━━━━━━┳━━━━━━━━━━━━━━━┓\n",
       "┃\u001b[1m \u001b[0m\u001b[1mLayer (type)                   \u001b[0m\u001b[1m \u001b[0m┃\u001b[1m \u001b[0m\u001b[1mOutput Shape          \u001b[0m\u001b[1m \u001b[0m┃\u001b[1m \u001b[0m\u001b[1m      Param #\u001b[0m\u001b[1m \u001b[0m┃\n",
       "┡━━━━━━━━━━━━━━━━━━━━━━━━━━━━━━━━━╇━━━━━━━━━━━━━━━━━━━━━━━━╇━━━━━━━━━━━━━━━┩\n",
       "│ dense_40 (\u001b[38;5;33mDense\u001b[0m)                │ (\u001b[38;5;45mNone\u001b[0m, \u001b[38;5;34m64\u001b[0m)             │           \u001b[38;5;34m256\u001b[0m │\n",
       "├─────────────────────────────────┼────────────────────────┼───────────────┤\n",
       "│ dense_41 (\u001b[38;5;33mDense\u001b[0m)                │ (\u001b[38;5;45mNone\u001b[0m, \u001b[38;5;34m32\u001b[0m)             │         \u001b[38;5;34m2,080\u001b[0m │\n",
       "├─────────────────────────────────┼────────────────────────┼───────────────┤\n",
       "│ dense_42 (\u001b[38;5;33mDense\u001b[0m)                │ (\u001b[38;5;45mNone\u001b[0m, \u001b[38;5;34m16\u001b[0m)             │           \u001b[38;5;34m528\u001b[0m │\n",
       "├─────────────────────────────────┼────────────────────────┼───────────────┤\n",
       "│ dense_43 (\u001b[38;5;33mDense\u001b[0m)                │ (\u001b[38;5;45mNone\u001b[0m, \u001b[38;5;34m1\u001b[0m)              │            \u001b[38;5;34m17\u001b[0m │\n",
       "└─────────────────────────────────┴────────────────────────┴───────────────┘\n"
      ]
     },
     "metadata": {},
     "output_type": "display_data"
    },
    {
     "data": {
      "text/html": [
       "<pre style=\"white-space:pre;overflow-x:auto;line-height:normal;font-family:Menlo,'DejaVu Sans Mono',consolas,'Courier New',monospace\"><span style=\"font-weight: bold\"> Total params: </span><span style=\"color: #00af00; text-decoration-color: #00af00\">2,881</span> (11.25 KB)\n",
       "</pre>\n"
      ],
      "text/plain": [
       "\u001b[1m Total params: \u001b[0m\u001b[38;5;34m2,881\u001b[0m (11.25 KB)\n"
      ]
     },
     "metadata": {},
     "output_type": "display_data"
    },
    {
     "data": {
      "text/html": [
       "<pre style=\"white-space:pre;overflow-x:auto;line-height:normal;font-family:Menlo,'DejaVu Sans Mono',consolas,'Courier New',monospace\"><span style=\"font-weight: bold\"> Trainable params: </span><span style=\"color: #00af00; text-decoration-color: #00af00\">2,881</span> (11.25 KB)\n",
       "</pre>\n"
      ],
      "text/plain": [
       "\u001b[1m Trainable params: \u001b[0m\u001b[38;5;34m2,881\u001b[0m (11.25 KB)\n"
      ]
     },
     "metadata": {},
     "output_type": "display_data"
    },
    {
     "data": {
      "text/html": [
       "<pre style=\"white-space:pre;overflow-x:auto;line-height:normal;font-family:Menlo,'DejaVu Sans Mono',consolas,'Courier New',monospace\"><span style=\"font-weight: bold\"> Non-trainable params: </span><span style=\"color: #00af00; text-decoration-color: #00af00\">0</span> (0.00 B)\n",
       "</pre>\n"
      ],
      "text/plain": [
       "\u001b[1m Non-trainable params: \u001b[0m\u001b[38;5;34m0\u001b[0m (0.00 B)\n"
      ]
     },
     "metadata": {},
     "output_type": "display_data"
    },
    {
     "name": "stdout",
     "output_type": "stream",
     "text": [
      "평가 결과: 손실=0.6399, 정확도=0.662500\n",
      "예측 확률:  [0.32279283 0.32279283]\n",
      "예측 결과:  [0 0]\n"
     ]
    },
    {
     "data": {
      "text/html": [
       "<pre style=\"white-space:pre;overflow-x:auto;line-height:normal;font-family:Menlo,'DejaVu Sans Mono',consolas,'Courier New',monospace\"><span style=\"font-weight: bold\">Model: \"functional_41\"</span>\n",
       "</pre>\n"
      ],
      "text/plain": [
       "\u001b[1mModel: \"functional_41\"\u001b[0m\n"
      ]
     },
     "metadata": {},
     "output_type": "display_data"
    },
    {
     "data": {
      "text/html": [
       "<pre style=\"white-space:pre;overflow-x:auto;line-height:normal;font-family:Menlo,'DejaVu Sans Mono',consolas,'Courier New',monospace\">┏━━━━━━━━━━━━━━━━━━━━━━━━━━━━━━━━━┳━━━━━━━━━━━━━━━━━━━━━━━━┳━━━━━━━━━━━━━━━┓\n",
       "┃<span style=\"font-weight: bold\"> Layer (type)                    </span>┃<span style=\"font-weight: bold\"> Output Shape           </span>┃<span style=\"font-weight: bold\">       Param # </span>┃\n",
       "┡━━━━━━━━━━━━━━━━━━━━━━━━━━━━━━━━━╇━━━━━━━━━━━━━━━━━━━━━━━━╇━━━━━━━━━━━━━━━┩\n",
       "│ input_layer_8 (<span style=\"color: #0087ff; text-decoration-color: #0087ff\">InputLayer</span>)      │ (<span style=\"color: #00d7ff; text-decoration-color: #00d7ff\">None</span>, <span style=\"color: #00af00; text-decoration-color: #00af00\">3</span>)              │             <span style=\"color: #00af00; text-decoration-color: #00af00\">0</span> │\n",
       "├─────────────────────────────────┼────────────────────────┼───────────────┤\n",
       "│ dense_44 (<span style=\"color: #0087ff; text-decoration-color: #0087ff\">Dense</span>)                │ (<span style=\"color: #00d7ff; text-decoration-color: #00d7ff\">None</span>, <span style=\"color: #00af00; text-decoration-color: #00af00\">32</span>)             │           <span style=\"color: #00af00; text-decoration-color: #00af00\">128</span> │\n",
       "├─────────────────────────────────┼────────────────────────┼───────────────┤\n",
       "│ dense_45 (<span style=\"color: #0087ff; text-decoration-color: #0087ff\">Dense</span>)                │ (<span style=\"color: #00d7ff; text-decoration-color: #00d7ff\">None</span>, <span style=\"color: #00af00; text-decoration-color: #00af00\">16</span>)             │           <span style=\"color: #00af00; text-decoration-color: #00af00\">528</span> │\n",
       "├─────────────────────────────────┼────────────────────────┼───────────────┤\n",
       "│ dense_46 (<span style=\"color: #0087ff; text-decoration-color: #0087ff\">Dense</span>)                │ (<span style=\"color: #00d7ff; text-decoration-color: #00d7ff\">None</span>, <span style=\"color: #00af00; text-decoration-color: #00af00\">8</span>)              │           <span style=\"color: #00af00; text-decoration-color: #00af00\">136</span> │\n",
       "├─────────────────────────────────┼────────────────────────┼───────────────┤\n",
       "│ dense_47 (<span style=\"color: #0087ff; text-decoration-color: #0087ff\">Dense</span>)                │ (<span style=\"color: #00d7ff; text-decoration-color: #00d7ff\">None</span>, <span style=\"color: #00af00; text-decoration-color: #00af00\">1</span>)              │             <span style=\"color: #00af00; text-decoration-color: #00af00\">9</span> │\n",
       "└─────────────────────────────────┴────────────────────────┴───────────────┘\n",
       "</pre>\n"
      ],
      "text/plain": [
       "┏━━━━━━━━━━━━━━━━━━━━━━━━━━━━━━━━━┳━━━━━━━━━━━━━━━━━━━━━━━━┳━━━━━━━━━━━━━━━┓\n",
       "┃\u001b[1m \u001b[0m\u001b[1mLayer (type)                   \u001b[0m\u001b[1m \u001b[0m┃\u001b[1m \u001b[0m\u001b[1mOutput Shape          \u001b[0m\u001b[1m \u001b[0m┃\u001b[1m \u001b[0m\u001b[1m      Param #\u001b[0m\u001b[1m \u001b[0m┃\n",
       "┡━━━━━━━━━━━━━━━━━━━━━━━━━━━━━━━━━╇━━━━━━━━━━━━━━━━━━━━━━━━╇━━━━━━━━━━━━━━━┩\n",
       "│ input_layer_8 (\u001b[38;5;33mInputLayer\u001b[0m)      │ (\u001b[38;5;45mNone\u001b[0m, \u001b[38;5;34m3\u001b[0m)              │             \u001b[38;5;34m0\u001b[0m │\n",
       "├─────────────────────────────────┼────────────────────────┼───────────────┤\n",
       "│ dense_44 (\u001b[38;5;33mDense\u001b[0m)                │ (\u001b[38;5;45mNone\u001b[0m, \u001b[38;5;34m32\u001b[0m)             │           \u001b[38;5;34m128\u001b[0m │\n",
       "├─────────────────────────────────┼────────────────────────┼───────────────┤\n",
       "│ dense_45 (\u001b[38;5;33mDense\u001b[0m)                │ (\u001b[38;5;45mNone\u001b[0m, \u001b[38;5;34m16\u001b[0m)             │           \u001b[38;5;34m528\u001b[0m │\n",
       "├─────────────────────────────────┼────────────────────────┼───────────────┤\n",
       "│ dense_46 (\u001b[38;5;33mDense\u001b[0m)                │ (\u001b[38;5;45mNone\u001b[0m, \u001b[38;5;34m8\u001b[0m)              │           \u001b[38;5;34m136\u001b[0m │\n",
       "├─────────────────────────────────┼────────────────────────┼───────────────┤\n",
       "│ dense_47 (\u001b[38;5;33mDense\u001b[0m)                │ (\u001b[38;5;45mNone\u001b[0m, \u001b[38;5;34m1\u001b[0m)              │             \u001b[38;5;34m9\u001b[0m │\n",
       "└─────────────────────────────────┴────────────────────────┴───────────────┘\n"
      ]
     },
     "metadata": {},
     "output_type": "display_data"
    },
    {
     "data": {
      "text/html": [
       "<pre style=\"white-space:pre;overflow-x:auto;line-height:normal;font-family:Menlo,'DejaVu Sans Mono',consolas,'Courier New',monospace\"><span style=\"font-weight: bold\"> Total params: </span><span style=\"color: #00af00; text-decoration-color: #00af00\">801</span> (3.13 KB)\n",
       "</pre>\n"
      ],
      "text/plain": [
       "\u001b[1m Total params: \u001b[0m\u001b[38;5;34m801\u001b[0m (3.13 KB)\n"
      ]
     },
     "metadata": {},
     "output_type": "display_data"
    },
    {
     "data": {
      "text/html": [
       "<pre style=\"white-space:pre;overflow-x:auto;line-height:normal;font-family:Menlo,'DejaVu Sans Mono',consolas,'Courier New',monospace\"><span style=\"font-weight: bold\"> Trainable params: </span><span style=\"color: #00af00; text-decoration-color: #00af00\">801</span> (3.13 KB)\n",
       "</pre>\n"
      ],
      "text/plain": [
       "\u001b[1m Trainable params: \u001b[0m\u001b[38;5;34m801\u001b[0m (3.13 KB)\n"
      ]
     },
     "metadata": {},
     "output_type": "display_data"
    },
    {
     "data": {
      "text/html": [
       "<pre style=\"white-space:pre;overflow-x:auto;line-height:normal;font-family:Menlo,'DejaVu Sans Mono',consolas,'Courier New',monospace\"><span style=\"font-weight: bold\"> Non-trainable params: </span><span style=\"color: #00af00; text-decoration-color: #00af00\">0</span> (0.00 B)\n",
       "</pre>\n"
      ],
      "text/plain": [
       "\u001b[1m Non-trainable params: \u001b[0m\u001b[38;5;34m0\u001b[0m (0.00 B)\n"
      ]
     },
     "metadata": {},
     "output_type": "display_data"
    },
    {
     "name": "stdout",
     "output_type": "stream",
     "text": [
      "Epoch 1/50\n",
      "320/320 - 1s - 3ms/step - accuracy: 0.6812 - loss: 0.7068\n",
      "Epoch 2/50\n",
      "320/320 - 0s - 828us/step - accuracy: 0.6875 - loss: 0.6254\n",
      "Epoch 3/50\n",
      "320/320 - 0s - 843us/step - accuracy: 0.6875 - loss: 0.6231\n",
      "Epoch 4/50\n",
      "320/320 - 0s - 821us/step - accuracy: 0.6875 - loss: 0.6230\n",
      "Epoch 5/50\n",
      "320/320 - 0s - 872us/step - accuracy: 0.6875 - loss: 0.6232\n",
      "Epoch 6/50\n",
      "320/320 - 0s - 859us/step - accuracy: 0.6875 - loss: 0.6232\n",
      "Epoch 7/50\n",
      "320/320 - 0s - 831us/step - accuracy: 0.6875 - loss: 0.6235\n",
      "Epoch 8/50\n",
      "320/320 - 0s - 807us/step - accuracy: 0.6875 - loss: 0.6225\n",
      "Epoch 9/50\n",
      "320/320 - 0s - 823us/step - accuracy: 0.6875 - loss: 0.6235\n",
      "Epoch 10/50\n",
      "320/320 - 0s - 815us/step - accuracy: 0.6875 - loss: 0.6232\n",
      "Epoch 11/50\n",
      "320/320 - 0s - 848us/step - accuracy: 0.6875 - loss: 0.6228\n",
      "Epoch 12/50\n",
      "320/320 - 0s - 857us/step - accuracy: 0.6875 - loss: 0.6230\n",
      "Epoch 13/50\n",
      "320/320 - 0s - 852us/step - accuracy: 0.6875 - loss: 0.6230\n",
      "Epoch 14/50\n",
      "320/320 - 0s - 826us/step - accuracy: 0.6875 - loss: 0.6227\n",
      "Epoch 15/50\n",
      "320/320 - 0s - 834us/step - accuracy: 0.6875 - loss: 0.6232\n",
      "Epoch 16/50\n",
      "320/320 - 0s - 823us/step - accuracy: 0.6875 - loss: 0.6233\n",
      "Epoch 17/50\n",
      "320/320 - 0s - 852us/step - accuracy: 0.6875 - loss: 0.6233\n",
      "Epoch 18/50\n",
      "320/320 - 0s - 824us/step - accuracy: 0.6875 - loss: 0.6236\n",
      "Epoch 19/50\n",
      "320/320 - 0s - 835us/step - accuracy: 0.6875 - loss: 0.6229\n",
      "Epoch 20/50\n",
      "320/320 - 0s - 846us/step - accuracy: 0.6875 - loss: 0.6228\n",
      "Epoch 21/50\n",
      "320/320 - 0s - 820us/step - accuracy: 0.6875 - loss: 0.6228\n",
      "Epoch 22/50\n",
      "320/320 - 0s - 841us/step - accuracy: 0.6875 - loss: 0.6233\n",
      "Epoch 23/50\n",
      "320/320 - 0s - 837us/step - accuracy: 0.6875 - loss: 0.6231\n",
      "Epoch 24/50\n",
      "320/320 - 0s - 824us/step - accuracy: 0.6875 - loss: 0.6234\n",
      "Epoch 25/50\n",
      "320/320 - 0s - 874us/step - accuracy: 0.6875 - loss: 0.6225\n",
      "Epoch 26/50\n",
      "320/320 - 0s - 846us/step - accuracy: 0.6875 - loss: 0.6230\n",
      "Epoch 27/50\n",
      "320/320 - 0s - 894us/step - accuracy: 0.6875 - loss: 0.6230\n",
      "Epoch 28/50\n",
      "320/320 - 0s - 838us/step - accuracy: 0.6875 - loss: 0.6229\n",
      "Epoch 29/50\n",
      "320/320 - 0s - 839us/step - accuracy: 0.6875 - loss: 0.6235\n",
      "Epoch 30/50\n",
      "320/320 - 0s - 832us/step - accuracy: 0.6875 - loss: 0.6228\n",
      "Epoch 31/50\n",
      "320/320 - 0s - 827us/step - accuracy: 0.6875 - loss: 0.6225\n",
      "Epoch 32/50\n",
      "320/320 - 0s - 850us/step - accuracy: 0.6875 - loss: 0.6227\n",
      "Epoch 33/50\n",
      "320/320 - 0s - 840us/step - accuracy: 0.6875 - loss: 0.6231\n",
      "Epoch 34/50\n",
      "320/320 - 0s - 853us/step - accuracy: 0.6875 - loss: 0.6229\n",
      "Epoch 35/50\n",
      "320/320 - 0s - 832us/step - accuracy: 0.6875 - loss: 0.6231\n",
      "Epoch 36/50\n",
      "320/320 - 0s - 823us/step - accuracy: 0.6875 - loss: 0.6230\n",
      "Epoch 37/50\n",
      "320/320 - 0s - 830us/step - accuracy: 0.6875 - loss: 0.6224\n",
      "Epoch 38/50\n",
      "320/320 - 0s - 832us/step - accuracy: 0.6875 - loss: 0.6228\n",
      "Epoch 39/50\n",
      "320/320 - 0s - 828us/step - accuracy: 0.6875 - loss: 0.6224\n",
      "Epoch 40/50\n",
      "320/320 - 0s - 833us/step - accuracy: 0.6875 - loss: 0.6236\n",
      "Epoch 41/50\n",
      "320/320 - 0s - 841us/step - accuracy: 0.6875 - loss: 0.6232\n",
      "Epoch 42/50\n",
      "320/320 - 0s - 867us/step - accuracy: 0.6875 - loss: 0.6226\n",
      "Epoch 43/50\n",
      "320/320 - 0s - 851us/step - accuracy: 0.6875 - loss: 0.6235\n",
      "Epoch 44/50\n",
      "320/320 - 0s - 820us/step - accuracy: 0.6875 - loss: 0.6231\n",
      "Epoch 45/50\n",
      "320/320 - 0s - 831us/step - accuracy: 0.6875 - loss: 0.6235\n",
      "Epoch 46/50\n",
      "320/320 - 0s - 851us/step - accuracy: 0.6875 - loss: 0.6229\n",
      "Epoch 47/50\n",
      "320/320 - 0s - 953us/step - accuracy: 0.6875 - loss: 0.6223\n",
      "Epoch 48/50\n",
      "320/320 - 0s - 861us/step - accuracy: 0.6875 - loss: 0.6235\n",
      "Epoch 49/50\n",
      "320/320 - 0s - 876us/step - accuracy: 0.6875 - loss: 0.6231\n",
      "Epoch 50/50\n",
      "320/320 - 0s - 853us/step - accuracy: 0.6875 - loss: 0.6234\n",
      "평가 결과: 손실=0.6401, 정확도=0.662500\n",
      "예측 확률:  [0.3190359 0.3190359]\n",
      "예측 결과:  [0 0]\n"
     ]
    },
    {
     "data": {
      "text/html": [
       "<pre style=\"white-space:pre;overflow-x:auto;line-height:normal;font-family:Menlo,'DejaVu Sans Mono',consolas,'Courier New',monospace\"><span style=\"font-weight: bold\">Model: \"MyBinaryClass\"</span>\n",
       "</pre>\n"
      ],
      "text/plain": [
       "\u001b[1mModel: \"MyBinaryClass\"\u001b[0m\n"
      ]
     },
     "metadata": {},
     "output_type": "display_data"
    },
    {
     "data": {
      "text/html": [
       "<pre style=\"white-space:pre;overflow-x:auto;line-height:normal;font-family:Menlo,'DejaVu Sans Mono',consolas,'Courier New',monospace\">┏━━━━━━━━━━━━━━━━━━━━━━━━━━━━━━━━━┳━━━━━━━━━━━━━━━━━━━━━━━━┳━━━━━━━━━━━━━━━┓\n",
       "┃<span style=\"font-weight: bold\"> Layer (type)                    </span>┃<span style=\"font-weight: bold\"> Output Shape           </span>┃<span style=\"font-weight: bold\">       Param # </span>┃\n",
       "┡━━━━━━━━━━━━━━━━━━━━━━━━━━━━━━━━━╇━━━━━━━━━━━━━━━━━━━━━━━━╇━━━━━━━━━━━━━━━┩\n",
       "│ dense_48 (<span style=\"color: #0087ff; text-decoration-color: #0087ff\">Dense</span>)                │ ?                      │   <span style=\"color: #00af00; text-decoration-color: #00af00\">0</span> (unbuilt) │\n",
       "├─────────────────────────────────┼────────────────────────┼───────────────┤\n",
       "│ batch_normalization_18          │ ?                      │   <span style=\"color: #00af00; text-decoration-color: #00af00\">0</span> (unbuilt) │\n",
       "│ (<span style=\"color: #0087ff; text-decoration-color: #0087ff\">BatchNormalization</span>)            │                        │               │\n",
       "├─────────────────────────────────┼────────────────────────┼───────────────┤\n",
       "│ dense_49 (<span style=\"color: #0087ff; text-decoration-color: #0087ff\">Dense</span>)                │ ?                      │   <span style=\"color: #00af00; text-decoration-color: #00af00\">0</span> (unbuilt) │\n",
       "├─────────────────────────────────┼────────────────────────┼───────────────┤\n",
       "│ batch_normalization_19          │ ?                      │   <span style=\"color: #00af00; text-decoration-color: #00af00\">0</span> (unbuilt) │\n",
       "│ (<span style=\"color: #0087ff; text-decoration-color: #0087ff\">BatchNormalization</span>)            │                        │               │\n",
       "├─────────────────────────────────┼────────────────────────┼───────────────┤\n",
       "│ dense_50 (<span style=\"color: #0087ff; text-decoration-color: #0087ff\">Dense</span>)                │ ?                      │   <span style=\"color: #00af00; text-decoration-color: #00af00\">0</span> (unbuilt) │\n",
       "├─────────────────────────────────┼────────────────────────┼───────────────┤\n",
       "│ batch_normalization_20          │ ?                      │   <span style=\"color: #00af00; text-decoration-color: #00af00\">0</span> (unbuilt) │\n",
       "│ (<span style=\"color: #0087ff; text-decoration-color: #0087ff\">BatchNormalization</span>)            │                        │               │\n",
       "├─────────────────────────────────┼────────────────────────┼───────────────┤\n",
       "│ dense_51 (<span style=\"color: #0087ff; text-decoration-color: #0087ff\">Dense</span>)                │ ?                      │   <span style=\"color: #00af00; text-decoration-color: #00af00\">0</span> (unbuilt) │\n",
       "├─────────────────────────────────┼────────────────────────┼───────────────┤\n",
       "│ dropout_12 (<span style=\"color: #0087ff; text-decoration-color: #0087ff\">Dropout</span>)            │ ?                      │             <span style=\"color: #00af00; text-decoration-color: #00af00\">0</span> │\n",
       "└─────────────────────────────────┴────────────────────────┴───────────────┘\n",
       "</pre>\n"
      ],
      "text/plain": [
       "┏━━━━━━━━━━━━━━━━━━━━━━━━━━━━━━━━━┳━━━━━━━━━━━━━━━━━━━━━━━━┳━━━━━━━━━━━━━━━┓\n",
       "┃\u001b[1m \u001b[0m\u001b[1mLayer (type)                   \u001b[0m\u001b[1m \u001b[0m┃\u001b[1m \u001b[0m\u001b[1mOutput Shape          \u001b[0m\u001b[1m \u001b[0m┃\u001b[1m \u001b[0m\u001b[1m      Param #\u001b[0m\u001b[1m \u001b[0m┃\n",
       "┡━━━━━━━━━━━━━━━━━━━━━━━━━━━━━━━━━╇━━━━━━━━━━━━━━━━━━━━━━━━╇━━━━━━━━━━━━━━━┩\n",
       "│ dense_48 (\u001b[38;5;33mDense\u001b[0m)                │ ?                      │   \u001b[38;5;34m0\u001b[0m (unbuilt) │\n",
       "├─────────────────────────────────┼────────────────────────┼───────────────┤\n",
       "│ batch_normalization_18          │ ?                      │   \u001b[38;5;34m0\u001b[0m (unbuilt) │\n",
       "│ (\u001b[38;5;33mBatchNormalization\u001b[0m)            │                        │               │\n",
       "├─────────────────────────────────┼────────────────────────┼───────────────┤\n",
       "│ dense_49 (\u001b[38;5;33mDense\u001b[0m)                │ ?                      │   \u001b[38;5;34m0\u001b[0m (unbuilt) │\n",
       "├─────────────────────────────────┼────────────────────────┼───────────────┤\n",
       "│ batch_normalization_19          │ ?                      │   \u001b[38;5;34m0\u001b[0m (unbuilt) │\n",
       "│ (\u001b[38;5;33mBatchNormalization\u001b[0m)            │                        │               │\n",
       "├─────────────────────────────────┼────────────────────────┼───────────────┤\n",
       "│ dense_50 (\u001b[38;5;33mDense\u001b[0m)                │ ?                      │   \u001b[38;5;34m0\u001b[0m (unbuilt) │\n",
       "├─────────────────────────────────┼────────────────────────┼───────────────┤\n",
       "│ batch_normalization_20          │ ?                      │   \u001b[38;5;34m0\u001b[0m (unbuilt) │\n",
       "│ (\u001b[38;5;33mBatchNormalization\u001b[0m)            │                        │               │\n",
       "├─────────────────────────────────┼────────────────────────┼───────────────┤\n",
       "│ dense_51 (\u001b[38;5;33mDense\u001b[0m)                │ ?                      │   \u001b[38;5;34m0\u001b[0m (unbuilt) │\n",
       "├─────────────────────────────────┼────────────────────────┼───────────────┤\n",
       "│ dropout_12 (\u001b[38;5;33mDropout\u001b[0m)            │ ?                      │             \u001b[38;5;34m0\u001b[0m │\n",
       "└─────────────────────────────────┴────────────────────────┴───────────────┘\n"
      ]
     },
     "metadata": {},
     "output_type": "display_data"
    },
    {
     "data": {
      "text/html": [
       "<pre style=\"white-space:pre;overflow-x:auto;line-height:normal;font-family:Menlo,'DejaVu Sans Mono',consolas,'Courier New',monospace\"><span style=\"font-weight: bold\"> Total params: </span><span style=\"color: #00af00; text-decoration-color: #00af00\">0</span> (0.00 B)\n",
       "</pre>\n"
      ],
      "text/plain": [
       "\u001b[1m Total params: \u001b[0m\u001b[38;5;34m0\u001b[0m (0.00 B)\n"
      ]
     },
     "metadata": {},
     "output_type": "display_data"
    },
    {
     "data": {
      "text/html": [
       "<pre style=\"white-space:pre;overflow-x:auto;line-height:normal;font-family:Menlo,'DejaVu Sans Mono',consolas,'Courier New',monospace\"><span style=\"font-weight: bold\"> Trainable params: </span><span style=\"color: #00af00; text-decoration-color: #00af00\">0</span> (0.00 B)\n",
       "</pre>\n"
      ],
      "text/plain": [
       "\u001b[1m Trainable params: \u001b[0m\u001b[38;5;34m0\u001b[0m (0.00 B)\n"
      ]
     },
     "metadata": {},
     "output_type": "display_data"
    },
    {
     "data": {
      "text/html": [
       "<pre style=\"white-space:pre;overflow-x:auto;line-height:normal;font-family:Menlo,'DejaVu Sans Mono',consolas,'Courier New',monospace\"><span style=\"font-weight: bold\"> Non-trainable params: </span><span style=\"color: #00af00; text-decoration-color: #00af00\">0</span> (0.00 B)\n",
       "</pre>\n"
      ],
      "text/plain": [
       "\u001b[1m Non-trainable params: \u001b[0m\u001b[38;5;34m0\u001b[0m (0.00 B)\n"
      ]
     },
     "metadata": {},
     "output_type": "display_data"
    },
    {
     "name": "stdout",
     "output_type": "stream",
     "text": [
      "평가 결과: 손실=0.6394, 정확도=0.662500\n",
      "예측 확률:  [0.3430794 0.3430794]\n",
      "예측 결과:  [0 0]\n"
     ]
    },
    {
     "data": {
      "image/png": "[encoded data removed]",
      "text/plain": [
       "<Figure size 640x480 with 1 Axes>"
      ]
     },
     "metadata": {},
     "output_type": "display_data"
    },
    {
     "data": {
      "image/png": "[encoded data removed]",
      "text/plain": [
       "<Figure size 640x480 with 1 Axes>"
      ]
     },
     "metadata": {},
     "output_type": "display_data"
    }
   ],
   "source": [
    "data = pd.read_csv('https://raw.githubusercontent.com/pykwon/python/refs/heads/master/testdata_utf8/binary.csv')\n",
    "print(data.head(3))\n",
    "print(data.info())\n",
    "\n",
    "x = data.drop(['admit'], axis=1)\n",
    "y = data[['admit']]\n",
    "\n",
    "x_train, x_test, y_train, y_test = train_test_split(x, y, test_size=0.2, random_state=42)\n",
    "print(x_train.shape, x_test.shape, y_train.shape, y_test.shape)\n",
    "\n",
    "# Sequential API\n",
    "model = Sequential()\n",
    "model.add(Input(shape=(3,)))\n",
    "model.add(Dense(units=64, activation='relu'))\n",
    "model.add(Dense(units=32, activation='relu'))\n",
    "model.add(Dense(units=16, activation='relu'))\n",
    "model.add(Dense(units=1, activation='sigmoid'))\n",
    "\n",
    "model.compile(loss='binary_crossentropy', optimizer=Adam(learning_rate=0.01), metrics=['accuracy'])\n",
    "model.summary()\n",
    "model.fit(x_train, y_train, epochs=50, batch_size=1, verbose=0)\n",
    "\n",
    "m_eval = model.evaluate(x_test, y_test, verbose=0)\n",
    "print(f'평가 결과: 손실={m_eval[0]:.4f}, 정확도={m_eval[1]:4f}')\n",
    "\n",
    "new_data = np.array([[500, 3, 2], [300, 2, 1]], dtype=np.float32)\n",
    "pred = model.predict(new_data, verbose=0)\n",
    "print('예측 확률: ', pred.ravel())\n",
    "print('예측 결과: ', np.where(pred >= 0.5, 1, 0).ravel())\n",
    "\n",
    "# Functional API\n",
    "input_layer = Input(shape=(3,))\n",
    "net = Dense(32, activation='relu')(input_layer)\n",
    "net = Dense(units=16, activation='relu')(net)\n",
    "net = Dense(units=8, activation='relu')(net)\n",
    "output_layer = Dense(1, activation='sigmoid')(net)\n",
    "model2 = Model(inputs=input_layer, outputs=output_layer)\n",
    "model2.compile(loss='binary_crossentropy', optimizer=Adam(learning_rate=0.01), metrics=['accuracy'])\n",
    "model2.summary()\n",
    "model2.fit(x_train, y_train, epochs=50, batch_size=1, verbose=2)\n",
    "m_eval = model2.evaluate(x_test, y_test, verbose=0)\n",
    "print(f'평가 결과: 손실={m_eval[0]:.4f}, 정확도={m_eval[1]:4f}')\n",
    "new_data = np.array([[500, 3, 2], [300, 2, 1]], dtype=np.float32)\n",
    "pred = model2.predict(new_data, verbose=0)\n",
    "print('예측 확률: ', pred.ravel())\n",
    "print('예측 결과: ', np.where(pred >= 0.5, 1, 0).ravel())\n",
    "\n",
    "# Subclassing API\n",
    "class MyBinaryClass(Model):\n",
    "    def __init__(self):\n",
    "        super().__init__(name='MyBinaryClass')\n",
    "        self.dense1 = Dense(64, activation='relu')\n",
    "        self.bn1 = BatchNormalization()\n",
    "        self.dense2 = Dense(32, activation='relu')\n",
    "        self.bn2 = BatchNormalization()\n",
    "        self.dense3 = Dense(16, activation='relu')\n",
    "        self.bn3 = BatchNormalization()\n",
    "        self.dense4 = Dense(1, activation='sigmoid')\n",
    "        self.dropout = Dropout(rate=0.2)\n",
    "\n",
    "    def call(self, x):\n",
    "        x = self.dropout(self.bn1(self.dense1(x)))\n",
    "        x = self.dropout(self.bn2(self.dense2(x)))\n",
    "        x = self.dropout(self.bn3(self.dense3(x)))\n",
    "        return self.dense4(x)\n",
    "    \n",
    "\n",
    "model3 = MyBinaryClass()\n",
    "model3.compile(loss='binary_crossentropy', optimizer=Adam(learning_rate=0.01), metrics=['accuracy'])\n",
    "model3.summary()\n",
    "\n",
    "history = model3.fit(x_train, y_train, epochs=50, batch_size=1, verbose=0)\n",
    "m_eval = model3.evaluate(x_test, y_test, verbose=0)\n",
    "print(f'평가 결과: 손실={m_eval[0]:.4f}, 정확도={m_eval[1]:4f}')\n",
    "new_data = np.array([[500, 3, 2], [300, 2, 1]], dtype=np.float32)\n",
    "pred = model3.predict(new_data, verbose=0)\n",
    "print('예측 확률: ', pred.ravel())\n",
    "print('예측 결과: ', np.where(pred >= 0.5, 1, 0).ravel())\n",
    "\n",
    "epoch_len = np.arange(len(history.epoch))\n",
    "\n",
    "plt.plot(epoch_len, history.history['loss'], label='loss', c='red')\n",
    "plt.xlabel('epochs')\n",
    "plt.ylabel('loss')\n",
    "plt.legend()\n",
    "plt.grid()\n",
    "plt.show()\n",
    "plt.close()\n",
    "\n",
    "plt.plot(epoch_len, history.history['accuracy'], label='accuracy', c='red')\n",
    "plt.xlabel('epochs')\n",
    "plt.ylabel('loss')\n",
    "plt.legend()\n",
    "plt.grid()\n",
    "plt.show()\n",
    "plt.close()\n"
   ]
  },
  {
   "cell_type": "code",
   "execution_count": null,
   "id": "01d6bc94",
   "metadata": {},
   "outputs": [],
   "source": []
  }
 ],
 "metadata": {
  "kernelspec": {
   "display_name": "base",
   "language": "python",
   "name": "python3"
  },
  "language_info": {
   "codemirror_mode": {
    "name": "ipython",
    "version": 3
   },
   "file_extension": ".py",
   "mimetype": "text/x-python",
   "name": "python",
   "nbconvert_exporter": "python",
   "pygments_lexer": "ipython3",
   "version": "3.13.5"
  }
 },
 "nbformat": 4,
 "nbformat_minor": 5
}

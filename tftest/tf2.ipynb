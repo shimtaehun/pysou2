{
 "cells": [
  {
   "cell_type": "code",
   "execution_count": 28,
   "id": "1f95d268",
   "metadata": {},
   "outputs": [
    {
     "name": "stdout",
     "output_type": "stream",
     "text": [
      "<tf.Variable 'Variable:0' shape=() dtype=float32, numpy=1.0>\n",
      "<tf.Variable 'Variable:0' shape=(2,) dtype=float32, numpy=array([1., 1.], dtype=float32)>\n",
      "<tf.Variable 'Variable:0' shape=(2, 1) dtype=float32, numpy=\n",
      "array([[1.],\n",
      "       [1.]], dtype=float32)>\n",
      "[[1]\n",
      " [1]]\n",
      "\n",
      "<tf.Variable 'Variable:0' shape=() dtype=int32, numpy=10>\n",
      "<tf.Variable 'Variable:0' shape=(1,) dtype=float32, numpy=array([20.], dtype=float32)>\n",
      "<tf.Variable 'Variable:0' shape=(1, 2) dtype=float32, numpy=array([[30., 40.]], dtype=float32)>\n"
     ]
    }
   ],
   "source": [
    "# tf에서 변수 선언 후 사용\n",
    "import tensorflow as tf\n",
    "\n",
    "f = tf.Variable(1.0)\n",
    "v = tf.Variable(tf.ones((2,)))\n",
    "m = tf.Variable(tf.ones((2,1)))\n",
    "print(f)\n",
    "print(v)\n",
    "print(m)\n",
    "tf.print(m)\n",
    "\n",
    "print()\n",
    "v1 = tf.Variable(1)\n",
    "v1.assign(10)       # 변수에 값을 할당\n",
    "print(v1)\n",
    "\n",
    "v2 = tf.Variable(tf.ones(shape=(1)))\n",
    "v2.assign([20])\n",
    "print(v2)\n",
    "\n",
    "v3 = tf.Variable(tf.ones(shape=(1,2)))\n",
    "v3.assign([[30, 40]])\n",
    "print(v3)\n"
   ]
  },
  {
   "cell_type": "code",
   "execution_count": 29,
   "id": "75b29de3",
   "metadata": {},
   "outputs": [
    {
     "name": "stdout",
     "output_type": "stream",
     "text": [
      "tf.Tensor([25], shape=(1,), dtype=int32)\n",
      "\n",
      "tf.Tensor([11. 12. 13. 14. 15.], shape=(5,), dtype=float32)\n",
      "\n",
      "out_a1:  tf.Tensor([9.], shape=(1,), dtype=float32)\n",
      "<class 'function'>\n",
      "\n",
      "out_a2:  tf.Tensor([5. 7.], shape=(2,), dtype=float32)\n",
      "<class 'tensorflow.python.eager.polymorphic_function.polymorphic_function.Function'>\n"
     ]
    }
   ],
   "source": [
    "v1 = tf.Variable([3])\n",
    "v2 = tf.Variable([5])\n",
    "v3 = v1 * v2 + 10\n",
    "print(v3)\n",
    "print()\n",
    "var = tf.Variable([1,2,3,4,5], dtype=tf.float32)\n",
    "result = var + 10\n",
    "print(result)\n",
    "\n",
    "print()\n",
    "w = tf.Variable(tf.ones(shape=(1,)))\n",
    "b = tf.Variable(tf.ones(shape=(1,)))\n",
    "w.assign([2])\n",
    "b.assign([3])\n",
    "\n",
    "def func1(x):\n",
    "    return w * x + b\n",
    "\n",
    "out_a1 = func1([3])\n",
    "print('out_a1: ', out_a1)\n",
    "print(type(func1))\n",
    "\n",
    "print()\n",
    "@tf.function\n",
    "def func2(x):\n",
    "    return w * x + b\n",
    "\n",
    "out_a2 = func2([1, 2])\n",
    "print('out_a2: ', out_a2)\n",
    "print(type(func2))"
   ]
  },
  {
   "cell_type": "code",
   "execution_count": null,
   "id": "3da00cf0",
   "metadata": {},
   "outputs": [
    {
     "name": "stdout",
     "output_type": "stream",
     "text": [
      "tf.Tensor([0.5432131  0.80746686 0.09020114 0.62945044], shape=(4,), dtype=float32)\n",
      "tf.Tensor([ 0.32317182  1.2869878   0.9298429  -0.57262367], shape=(4,), dtype=float32)\n",
      "[[1.]\n",
      " [1.]]\n",
      "[[0.]\n",
      " [0.]]\n",
      "[[1.]\n",
      " [1.]]\n",
      "[[2.]\n",
      " [2.]]\n",
      "[[1.]\n",
      " [1.]]\n"
     ]
    }
   ],
   "source": [
    "# 난수\n",
    "rand = tf.random.uniform([4], 0, 1) # 균등 분포\n",
    "print(rand)\n",
    "rand2 = tf.random.normal([4], 0, 1) # 균등 분포\n",
    "print(rand2)\n",
    "\n",
    "aa = tf.ones((2, 1))\n",
    "print(aa.numpy())\n",
    "m = tf.Variable(tf.zeros((2, 1)))\n",
    "print(m.numpy())\n",
    "m.assign(aa)        # 치환\n",
    "print(m.numpy())\n",
    "m.assign_add(aa)    # 더하기 후 치환\n",
    "print(m.numpy())\n",
    "m.assign_sub(aa)    # 빼기 후 치환\n",
    "print(m.numpy())"
   ]
  }
 ],
 "metadata": {
  "kernelspec": {
   "display_name": "base",
   "language": "python",
   "name": "python3"
  },
  "language_info": {
   "codemirror_mode": {
    "name": "ipython",
    "version": 3
   },
   "file_extension": ".py",
   "mimetype": "text/x-python",
   "name": "python",
   "nbconvert_exporter": "python",
   "pygments_lexer": "ipython3",
   "version": "3.13.5"
  }
 },
 "nbformat": 4,
 "nbformat_minor": 5
}

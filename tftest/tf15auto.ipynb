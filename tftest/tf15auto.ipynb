{
 "cells": [
  {
   "cell_type": "code",
   "execution_count": null,
   "id": "83021569",
   "metadata": {},
   "outputs": [],
   "source": [
    "# 다중선형회귀 - 자동차 연비 예측 - Network 구성 함수작성, 조기종료\n",
    "from sklearn.model_selection import train_test_split\n",
    "from tensorflow.keras.models import Sequential, Model\n",
    "from tensorflow.keras.layers import Dense, Input, Concatenate\n",
    "import numpy as np\n",
    "import tensorflow as tf\n",
    "import matplotlib.pyplot as plt\n",
    "import seaborn as sns\n",
    "import pandas as pd\n",
    "\n",
    "dataset = pd.read_csv('https://raw.githubusercontent.com/pykwon/python/refs/heads/master/testdata_utf8/auto-mpg.csv', na_values='?')\n",
    "print(dataset.head(2))\n",
    "del dataset['car name']\n",
    "print(dataset.head(2))\n",
    "dataset.drop(['cylinders', 'acceleration', 'model year', 'origin'], axis='columns', inplace=True) \n",
    "print(dataset.corr())\n",
    "print(dataset.info())\n",
    "dataset = dataset.dropna()\n",
    "print(dataset.isna().sum())\n",
    "\n",
    "sns.pairplot(dataset[['mpg', 'displacement','horsepower', 'weight']], diag_kind='kde')\n",
    "plt.show()\n"
   ]
  },
  {
   "cell_type": "code",
   "execution_count": null,
   "id": "d41c5bae",
   "metadata": {},
   "outputs": [],
   "source": [
    "# train / test split\n",
    "train_dataset = dataset.sample(frac=0.7, random_state=123)\n",
    "test_dataset = dataset.drop(train_dataset.index)\n",
    "print(train_dataset[:2], train_dataset.shape)   # (274, 4)\n",
    "print(test_dataset[:2], test_dataset.shape)     # (118, 4)\n",
    "\n",
    "# 표준화 - 수식 (관찰값 - 평균) / 표준편차\n",
    "train_stat = train_dataset.describe()\n",
    "print(train_stat)\n",
    "train_stat.pop('mpg')\n",
    "print(train_stat.transpose())\n",
    "train_stat = train_stat.transpose()\n",
    "\n",
    "def std_func(x):\n",
    "    return (x - train_stat['mean']) / train_stat['std']\n",
    "\n",
    "# print(std_func(train_dataset[:3]))\n",
    "st_train_data = std_func(train_dataset)\n",
    "st_train_data = st_train_data.drop(['mpg'], axis='columns')\n",
    "print(st_train_data[:2])\n",
    "st_test_data = std_func(test_dataset)\n",
    "st_test_data = st_test_data.drop(['mpg'], axis='columns')\n",
    "print(st_test_data[:2])\n",
    "\n",
    "train_label = train_dataset.pop('mpg')\n",
    "print(train_label[:2])\n",
    "test_label = test_dataset.pop('mpg')\n",
    "print(test_label[:2])\n",
    "\n"
   ]
  },
  {
   "cell_type": "code",
   "execution_count": null,
   "id": "13db9d6c",
   "metadata": {},
   "outputs": [],
   "source": [
    "from scipy import optimize\n",
    "from streamlit import metric\n",
    "\n",
    "\n",
    "def build_model():\n",
    "    network = Sequential([\n",
    "        Input(shape=(3,)),\n",
    "        Dense(units=32, activation='relu'),\n",
    "        Dense(units=32, activation='relu'),\n",
    "        Dense(units=1, activation='linear'),\n",
    "    ])\n",
    "\n",
    "    opti = tf.keras.optimizers.Adam(learning_rate=0.01)\n",
    "    network.compile(optimizer=opti, loss='mean_squared_error', metrics=['mean_squared_error', 'mean_absolute_error'])\n",
    "    return network\n",
    "\n",
    "model = build_model()\n",
    "print(model.summary())\n"
   ]
  },
  {
   "cell_type": "code",
   "execution_count": null,
   "id": "cac1d1fc",
   "metadata": {},
   "outputs": [],
   "source": [
    "from gc import callbacks\n",
    "from tabnanny import verbose\n",
    "from libmambapy import History\n",
    "\n",
    "\n",
    "epochs = 5000\n",
    "# 조기 종료\n",
    "early_stop = tf.keras.callbacks.EarlyStopping(monitor='val_loss', baseline=0.03, patience=5)\n",
    "history = model.fit(st_train_data, train_label, batch_size=32, epochs=epochs, validation_split=0.2, verbose=2, callbacks=[early_stop])\n",
    "df = pd.DataFrame(history.history)\n",
    "print(df.head(3))"
   ]
  },
  {
   "cell_type": "code",
   "execution_count": null,
   "id": "0cca6e54",
   "metadata": {},
   "outputs": [],
   "source": [
    "# 모델 학습 정보 시각화\n",
    "def plot_history(history):\n",
    "    hist = pd.DataFrame(history.history)\n",
    "    hist['epoch'] = history.epoch\n",
    "    print(hist.head(3))\n",
    "    plt.figure(figsize=(8, 12))\n",
    "    plt.subplot(2, 1, 1)\n",
    "    plt.xlabel('epoch')\n",
    "    plt.ylabel('mean squared error [mpg]')\n",
    "    plt.plot(hist['epoch'], hist['mean_squared_error'], label='train err')\n",
    "    plt.plot(hist['epoch'], hist['val_mean_squared_error'], label='validation err')\n",
    "    \n",
    "    plt.subplot(2, 1, 2)\n",
    "    plt.xlabel('epoch')\n",
    "    plt.ylabel('mean absolute error [$mpg^2$]')\n",
    "    plt.plot(hist['epoch'], hist['mean_absolute_error'], label='train abs err')\n",
    "    plt.plot(hist['epoch'], hist['val_mean_absolute_error'], label='validation abs err')\n",
    "\n",
    "    plt.legend()\n",
    "    plt.show()\n",
    "\n",
    "plot_history(history)"
   ]
  },
  {
   "cell_type": "code",
   "execution_count": null,
   "id": "876cfd2d",
   "metadata": {},
   "outputs": [],
   "source": [
    "loss, mse, mae = model.evaluate(st_test_data, test_label)\n",
    "print('test dataset으로 평가 loss : {:5.3f}'.format(loss))\n",
    "print('test dataset으로 평가 mse : {:5.3f}'.format(mse))\n",
    "print('test dataset으로 평가 mae : {:5.3f}'.format(mae))"
   ]
  }
 ],
 "metadata": {
  "kernelspec": {
   "display_name": "base",
   "language": "python",
   "name": "python3"
  },
  "language_info": {
   "codemirror_mode": {
    "name": "ipython",
    "version": 3
   },
   "file_extension": ".py",
   "mimetype": "text/x-python",
   "name": "python",
   "nbconvert_exporter": "python",
   "pygments_lexer": "ipython3",
   "version": "3.13.5"
  }
 },
 "nbformat": 4,
 "nbformat_minor": 5
}

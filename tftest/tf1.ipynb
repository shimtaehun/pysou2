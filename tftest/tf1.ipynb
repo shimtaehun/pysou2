{
 "cells": [
  {
   "cell_type": "code",
   "execution_count": 2,
   "id": "f3fc5226",
   "metadata": {},
   "outputs": [
    {
     "name": "stdout",
     "output_type": "stream",
     "text": [
      "즉시 실행 모드:  True\n",
      "1 <class 'int'>\n",
      "tf.Tensor(1, shape=(), dtype=int32) <class 'tensorflow.python.framework.ops.EagerTensor'>\n",
      "tf.Tensor([1], shape=(1,), dtype=int32) <class 'tensorflow.python.framework.ops.EagerTensor'>\n",
      "tf.Tensor([[1]], shape=(1, 1), dtype=int32) <class 'tensorflow.python.framework.ops.EagerTensor'>\n",
      "\n",
      "tf.Tensor([4 6], shape=(2,), dtype=int32)\n",
      "tf.Tensor([7 9], shape=(2,), dtype=int32)\n",
      "tf.Tensor([7 9], shape=(2,), dtype=int32)\n"
     ]
    }
   ],
   "source": [
    "import tensorflow as tf\n",
    "\n",
    "print('즉시 실행 모드: ', tf.executing_eagerly())\n",
    "\n",
    "# Tensor 생성\n",
    "print(1, type(1))\n",
    "print(tf.constant(1), type(tf.constant(1)))     # 0D Tensor - scala\n",
    "print(tf.constant([1]), type(tf.constant([1])))     # 1D Tensor - 1차원 배열이라 생각\n",
    "print(tf.constant([[1]]), type(tf.constant([[1]])))     # 2D Tensor - 2차원 배열이라 생각\n",
    "\n",
    "print()\n",
    "a = tf.constant([1, 2])\n",
    "b = tf.constant([3, 4])\n",
    "c = a + b\n",
    "print(c)\n",
    "d = tf.constant([3])\n",
    "e = c + d\n",
    "print(e)\n",
    "f = tf.add(c, d)\n",
    "print(f)\n"
   ]
  },
  {
   "cell_type": "code",
   "execution_count": 8,
   "id": "ebd4d93a",
   "metadata": {},
   "outputs": [
    {
     "name": "stdout",
     "output_type": "stream",
     "text": [
      "7\n",
      "tf.Tensor(7.0, shape=(), dtype=float32)\n",
      "tf.Tensor(7.0, shape=(), dtype=float32)\n",
      "tf.Tensor(7.0, shape=(), dtype=float32)\n",
      "tf.Tensor(7.0, shape=(), dtype=float32)\n",
      "[1 2] <class 'numpy.ndarray'>\n",
      "tf.Tensor([6 7], shape=(2,), dtype=int64)\n",
      "[6 7]\n",
      "[6 7]\n",
      "[ 9 10]\n"
     ]
    }
   ],
   "source": [
    "print(7)\n",
    "print(tf.convert_to_tensor(7, dtype=tf.float32))\n",
    "print(tf.cast(7, dtype=tf.float32))\n",
    "print(tf.constant(7.0))\n",
    "print(tf.constant(7, dtype=tf.float32))\n",
    "\n",
    "# numpy의 ndarray와  tensor 사이에  type이 자동 변환됨\n",
    "import numpy as np\n",
    "arr = np.array([1, 2])\n",
    "print(arr, type(arr))\n",
    "\n",
    "tfarr = tf.add(arr, 5)      # 5가 자동으로 tensor로 변환\n",
    "print(tfarr)\n",
    "\n",
    "tf.print(tfarr)\n",
    "print(tfarr.numpy())\n",
    "print(np.add(tfarr, 3))"
   ]
  },
  {
   "cell_type": "code",
   "execution_count": 4,
   "id": "14c4b4d5",
   "metadata": {},
   "outputs": [
    {
     "name": "stdout",
     "output_type": "stream",
     "text": [
      "Tensor(\"c_one:0\", shape=(), dtype=int32)\n",
      "<class 'tensorflow.python.framework.ops.SymbolicTensor'>\n",
      "name: \"c_one\"\n",
      "op: \"Const\"\n",
      "attr {\n",
      "  key: \"value\"\n",
      "  value {\n",
      "    tensor {\n",
      "      dtype: DT_INT32\n",
      "      tensor_shape {\n",
      "      }\n",
      "      int_val: 1\n",
      "    }\n",
      "  }\n",
      "}\n",
      "attr {\n",
      "  key: \"dtype\"\n",
      "  value {\n",
      "    type: DT_INT32\n",
      "  }\n",
      "}\n",
      "\n"
     ]
    }
   ],
   "source": [
    "# 텐서플로는 텐서를 Graph 영역내에서 실행하는 것이 일반적이다.\n",
    "g1 = tf.Graph() # 별도의 그래프 생성\n",
    "with g1.as_default():\n",
    "    c1 = tf.constant(1, name='c_one')\n",
    "    print(c1)\n",
    "    print(type(c1))\n",
    "    print(c1.op.node_def)"
   ]
  }
 ],
 "metadata": {
  "kernelspec": {
   "display_name": "base",
   "language": "python",
   "name": "python3"
  },
  "language_info": {
   "codemirror_mode": {
    "name": "ipython",
    "version": 3
   },
   "file_extension": ".py",
   "mimetype": "text/x-python",
   "name": "python",
   "nbconvert_exporter": "python",
   "pygments_lexer": "ipython3",
   "version": "3.13.5"
  }
 },
 "nbformat": 4,
 "nbformat_minor": 5
}

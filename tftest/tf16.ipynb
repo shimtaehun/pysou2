{
 "cells": [
  {
   "cell_type": "code",
   "execution_count": 3,
   "id": "ba9ed08b",
   "metadata": {},
   "outputs": [],
   "source": [
    "import numpy as np\n",
    "import pandas as pd\n",
    "import matplotlib.pyplot as plt\n",
    "import tensorflow as tf\n",
    "from sklearn.preprocessing import OneHotEncoder\n",
    "from sklearn.compose import make_column_transformer\n",
    "\n",
    "from tensorflow.keras.models import Sequential\n",
    "from tensorflow.keras.layers import Dense, Input\n",
    "from sklearn.metrics import r2_score"
   ]
  },
  {
   "cell_type": "code",
   "execution_count": 4,
   "id": "9ede91d1",
   "metadata": {},
   "outputs": [
    {
     "name": "stdout",
     "output_type": "stream",
     "text": [
      "     가격    년식   종류    연비   마력    토크   연료  하이브리드   배기량    중량 변속기\n",
      "0  1885  2015  준중형  11.8  172  21.0  가솔린      0  1999  1300  자동\n",
      "1  2190  2015  준중형  12.3  204  27.0  가솔린      0  1591  1300  자동\n",
      "     가격    년식  종류    연비   마력    토크   연료  하이브리드   배기량    중량 변속기\n",
      "0  1915  2015  대형   6.8  159  23.0  LPG      0  2359  1935  수동\n",
      "1  1164  2012  소형  13.3  108  13.9  가솔린      0  1396  1035  자동\n",
      "     년식   종류    연비   마력    토크   연료  하이브리드   배기량    중량 변속기\n",
      "0  2015  준중형  11.8  172  21.0  가솔린      0  1999  1300  자동\n",
      "1  2015  준중형  12.3  204  27.0  가솔린      0  1591  1300  자동\n",
      "Index(['년식', '종류', '연비', '마력', '토크', '연료', '하이브리드', '배기량', '중량', '변속기'], dtype='object')\n",
      "(71, 10)\n",
      "{'준중형', '대형', '소형', '중형'}\n",
      "{'가솔린', '디젤', 'LPG'}\n",
      "{'수동', '자동'}\n",
      "[[0.000e+00 0.000e+00 1.000e+00 0.000e+00 0.000e+00 1.000e+00 0.000e+00\n",
      "  0.000e+00 1.000e+00 2.015e+03 1.180e+01 1.720e+02 2.100e+01 0.000e+00\n",
      "  1.999e+03 1.300e+03]\n",
      " [0.000e+00 0.000e+00 1.000e+00 0.000e+00 0.000e+00 1.000e+00 0.000e+00\n",
      "  0.000e+00 1.000e+00 2.015e+03 1.230e+01 2.040e+02 2.700e+01 0.000e+00\n",
      "  1.591e+03 1.300e+03]] (71, 16)\n",
      "(71, 1)\n"
     ]
    }
   ],
   "source": [
    "train_df = pd.read_excel('https://github.com/pykwon/python/blob/master/testdata_utf8/hd_carprice.xlsx?raw=true', sheet_name='train')\n",
    "test_df = pd.read_excel('https://github.com/pykwon/python/blob/master/testdata_utf8/hd_carprice.xlsx?raw=true', sheet_name='test')\n",
    "print(train_df.head(2))\n",
    "print(test_df.head(2))\n",
    "# feature\n",
    "x_train = train_df.drop(['가격'], axis=1)\n",
    "x_test = test_df.drop(['가격'], axis=1)\n",
    "\n",
    "#label\n",
    "y_train = train_df[['가격']] \n",
    "y_test = test_df[['가격']] \n",
    "\n",
    "print(x_train.head(2))\n",
    "print(x_train.columns)\n",
    "print(x_train.shape)\n",
    "\n",
    "print(set(x_train.종류)) # {'소형', '준중형', '중형', '대형'}\n",
    "print(set(x_train.연료)) # {'가솔린', '디젤', 'LPG'}\n",
    "print(set(x_train.변속기)) # {'수동', '자동'}\n",
    "\n",
    "# 종류, 연료, 변속기 열에 대해서는 labelencoder(), onehotencoder() 등을 적용\n",
    "transformer = make_column_transformer((OneHotEncoder(), ['종류', '연료', '변속기']), remainder='passthrough')\n",
    "\n",
    "# remainder='passthrouth' 기본은 'drop. 열이 transformer에 전달\n",
    "transformer.fit(x_train)\n",
    "x_train = transformer.transform(x_train)  #3개의 칼럼을 포함해 모든 칼럼이 표준화 됨\n",
    "x_test = transformer.transform(x_test)\n",
    "print(x_train[:2], x_train.shape) # (71, 16)\n",
    "print(y_train.shape) # (71, 1)"
   ]
  },
  {
   "cell_type": "code",
   "execution_count": 5,
   "id": "7982335e",
   "metadata": {},
   "outputs": [
    {
     "name": "stdout",
     "output_type": "stream",
     "text": [
      "<bound method Model.summary of <Functional name=functional, built=True>>\n"
     ]
    }
   ],
   "source": [
    "# functional api로 모델 작성\n",
    "from tabnanny import verbose\n",
    "from matplotlib import units\n",
    "from scipy import optimize\n",
    "from sklearn import metrics\n",
    "\n",
    "\n",
    "\n",
    "input = tf.keras.layers.Input(shape=(16,))\n",
    "net = tf.keras.layers.Dense(units=32, activation='relu')(input)\n",
    "net = tf.keras.layers.Dense(units=32, activation='relu')(net)\n",
    "net = tf.keras.layers.Dense(units=1, activation='relu')(net)\n",
    "\n",
    "model = tf.keras.models.Model(input, net)\n",
    "model.compile(optimizer='adam', loss='mse', metrics=['mse'])\n",
    "print(model.summary)"
   ]
  },
  {
   "cell_type": "code",
   "execution_count": 6,
   "id": "b35cf071",
   "metadata": {},
   "outputs": [
    {
     "name": "stdout",
     "output_type": "stream",
     "text": [
      "\u001b[1m1/1\u001b[0m \u001b[32m━━━━━━━━━━━━━━━━━━━━\u001b[0m\u001b[37m\u001b[0m \u001b[1m0s\u001b[0m 52ms/step\n",
      "예측값:  [0. 0. 0. 0. 0.]\n",
      "실제값:  [1915 1164 2817 2160 1915]\n",
      "     년식   종류    연비   마력    토크   연료  하이브리드   배기량    중량 변속기\n",
      "0  2015  준중형  11.8  172  21.0  가솔린      0  1999  1300  자동\n",
      "\u001b[1m1/1\u001b[0m \u001b[32m━━━━━━━━━━━━━━━━━━━━\u001b[0m\u001b[37m\u001b[0m \u001b[1m0s\u001b[0m 36ms/step\n",
      "예측값:  [0.]\n"
     ]
    }
   ],
   "source": [
    "y_predict = model.predict(x_test)\n",
    "print('예측값: ',  y_predict[:5].ravel())\n",
    "print('실제값: ', y_test[:5].values.ravel())\n",
    "\n",
    "# 새로운 값으로 예측\n",
    "new_x_test = [[2015,\"준중형\",11.8,172,21.0,\"가솔린\",0,1999,1300,\"자동\"]]\n",
    "new_x_test = pd.DataFrame(new_x_test, \\\n",
    "                        columns=['년식', '종류', '연비', '마력', '토크', '연료', '하이브리드', '배기량', '중량', '변속기'])\n",
    "print(new_x_test)\n",
    "\n",
    "new_x_test = transformer.transform(new_x_test)\n",
    "new_predict = model.predict(new_x_test)\n",
    "print('예측값: ', new_predict.ravel())"
   ]
  },
  {
   "cell_type": "code",
   "execution_count": null,
   "id": "9c038dcd",
   "metadata": {},
   "outputs": [],
   "source": []
  }
 ],
 "metadata": {
  "kernelspec": {
   "display_name": "base",
   "language": "python",
   "name": "python3"
  },
  "language_info": {
   "codemirror_mode": {
    "name": "ipython",
    "version": 3
   },
   "file_extension": ".py",
   "mimetype": "text/x-python",
   "name": "python",
   "nbconvert_exporter": "python",
   "pygments_lexer": "ipython3",
   "version": "3.13.5"
  }
 },
 "nbformat": 4,
 "nbformat_minor": 5
}
